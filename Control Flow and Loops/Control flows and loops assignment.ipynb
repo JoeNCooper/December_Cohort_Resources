{
 "cells": [
  {
   "cell_type": "markdown",
   "id": "3d3d9ef7",
   "metadata": {},
   "source": [
    "# Take_Away"
   ]
  },
  {
   "cell_type": "markdown",
   "id": "be7e281e",
   "metadata": {},
   "source": [
    "### 1. Write a program to display all prime numbers within a range"
   ]
  },
  {
   "cell_type": "markdown",
   "id": "f07399bd",
   "metadata": {},
   "source": [
    "Note: A Prime Number is a number that cannot be made by multiplying other whole numbers. A prime number is a natural number greater than 1 that is not a product of two smaller natural numbers"
   ]
  },
  {
   "cell_type": "markdown",
   "id": "9bf83e32",
   "metadata": {},
   "source": [
    "### range\n",
    "start = 25\n",
    "\n",
    "end = 50"
   ]
  },
  {
   "cell_type": "markdown",
   "id": "f9dbd2af",
   "metadata": {},
   "source": [
    "### Expected output:"
   ]
  },
  {
   "cell_type": "code",
   "execution_count": 6,
   "id": "6ad785d5",
   "metadata": {},
   "outputs": [
    {
     "name": "stdout",
     "output_type": "stream",
     "text": [
      "Prime numbers between 25 and 50 are:\n",
      "29\n",
      "31\n",
      "37\n",
      "41\n",
      "43\n",
      "47\n"
     ]
    }
   ],
   "source": [
    "start = 25\n",
    "end = 50\n",
    "print(\"Prime numbers between\", start, \"and\", end, \"are:\")\n",
    "\n",
    "for num in range(start, end + 1):\n",
    "    # all prime numbers are greater than 1\n",
    "    # if number is less than or equal to 1, it is not prime\n",
    "    if num > 1:\n",
    "        for i in range(2, num):\n",
    "            # check for factors\n",
    "            if (num % i) == 0:\n",
    "                # not a prime number so break inner loop and\n",
    "                # look for next number\n",
    "                break\n",
    "        else:\n",
    "            print(num)"
   ]
  },
  {
   "cell_type": "markdown",
   "id": "333290b8",
   "metadata": {},
   "source": [
    "### 2 . Write a program to print multiplication table of a given number"
   ]
  },
  {
   "cell_type": "markdown",
   "id": "e9444dac",
   "metadata": {},
   "source": [
    "For example, num = 2 so the output should be"
   ]
  },
  {
   "cell_type": "code",
   "execution_count": 5,
   "id": "163a0b41",
   "metadata": {},
   "outputs": [
    {
     "name": "stdout",
     "output_type": "stream",
     "text": [
      "8\n",
      "16\n",
      "24\n",
      "32\n",
      "40\n",
      "48\n",
      "56\n",
      "64\n",
      "72\n",
      "80\n"
     ]
    }
   ],
   "source": [
    "n = 8\n",
    "# stop: 11 (because range never include stop number in result)\n",
    "# run loop 10 times\n",
    "for i in range(1, 11, 1):\n",
    "    # 2 *i (current number)\n",
    "    product = n * i\n",
    "    print(product)\n",
    "    "
   ]
  },
  {
   "cell_type": "code",
   "execution_count": 9,
   "id": "06a44e47",
   "metadata": {},
   "outputs": [
    {
     "name": "stdout",
     "output_type": "stream",
     "text": [
      "whole table\n",
      "\n",
      "\n",
      "1 x 8 = 8\n",
      "2 x 8 = 16\n",
      "3 x 8 = 24\n",
      "4 x 8 = 32\n",
      "5 x 8 = 40\n",
      "6 x 8 = 48\n",
      "7 x 8 = 56\n",
      "8 x 8 = 64\n",
      "9 x 8 = 72\n",
      "10 x 8 = 80\n"
     ]
    }
   ],
   "source": [
    "print(\"whole table\")\n",
    "print('\\n')\n",
    "for i in range(1, 11, 1):\n",
    "    # 2 *i (current number)\n",
    "    product = n * i\n",
    "    print(f'{i} x {n} = {product}')"
   ]
  },
  {
   "cell_type": "code",
   "execution_count": null,
   "id": "ddeae096",
   "metadata": {},
   "outputs": [],
   "source": []
  }
 ],
 "metadata": {
  "kernelspec": {
   "display_name": "Python 3 (ipykernel)",
   "language": "python",
   "name": "python3"
  },
  "language_info": {
   "codemirror_mode": {
    "name": "ipython",
    "version": 3
   },
   "file_extension": ".py",
   "mimetype": "text/x-python",
   "name": "python",
   "nbconvert_exporter": "python",
   "pygments_lexer": "ipython3",
   "version": "3.11.5"
  }
 },
 "nbformat": 4,
 "nbformat_minor": 5
}
