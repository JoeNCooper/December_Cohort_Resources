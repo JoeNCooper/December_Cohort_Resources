{
 "cells": [
  {
   "cell_type": "markdown",
   "id": "3d3d9ef7",
   "metadata": {},
   "source": [
    "# Take_Away"
   ]
  },
  {
   "cell_type": "markdown",
   "id": "be7e281e",
   "metadata": {},
   "source": [
    "### 1. Write a program to display all prime numbers within a range"
   ]
  },
  {
   "cell_type": "markdown",
   "id": "f07399bd",
   "metadata": {},
   "source": [
    "Note: A Prime Number is a number that cannot be made by multiplying other whole numbers. A prime number is a natural number greater than 1 that is not a product of two smaller natural numbers"
   ]
  },
  {
   "cell_type": "markdown",
   "id": "9bf83e32",
   "metadata": {},
   "source": [
    "### range\n",
    "start = 25\n",
    "\n",
    "end = 50"
   ]
  },
  {
   "cell_type": "markdown",
   "id": "f9dbd2af",
   "metadata": {},
   "source": [
    "### Expected output:"
   ]
  },
  {
   "cell_type": "markdown",
   "id": "a6f23e85",
   "metadata": {},
   "source": [
    "Prime numbers between 25 and 50 are:\n",
    "\n",
    "29\n",
    "<br>\n",
    "31\n",
    "<br>\n",
    "37\n",
    "<br>\n",
    "41\n",
    "<br>\n",
    "43\n",
    "<br>\n",
    "47"
   ]
  },
  {
   "cell_type": "markdown",
   "id": "5a7219dd",
   "metadata": {},
   "source": []
  },
  {
   "cell_type": "markdown",
   "id": "333290b8",
   "metadata": {},
   "source": [
    "### 2 . Write a program to print multiplication table of a given number"
   ]
  },
  {
   "cell_type": "markdown",
   "id": "e9444dac",
   "metadata": {},
   "source": [
    "For example, num = 2 so the output should be"
   ]
  },
  {
   "cell_type": "code",
   "execution_count": 1,
   "id": "163a0b41",
   "metadata": {},
   "outputs": [
    {
     "data": {
      "text/plain": [
       "20"
      ]
     },
     "execution_count": 1,
     "metadata": {},
     "output_type": "execute_result"
    }
   ],
   "source": [
    "2\n",
    "4\n",
    "6\n",
    "8\n",
    "10\n",
    "12\n",
    "14\n",
    "16\n",
    "18\n",
    "20"
   ]
  },
  {
   "cell_type": "code",
   "execution_count": null,
   "id": "fef8e948",
   "metadata": {},
   "outputs": [],
   "source": []
  }
 ],
 "metadata": {
  "kernelspec": {
   "display_name": "Python 3 (ipykernel)",
   "language": "python",
   "name": "python3"
  },
  "language_info": {
   "codemirror_mode": {
    "name": "ipython",
    "version": 3
   },
   "file_extension": ".py",
   "mimetype": "text/x-python",
   "name": "python",
   "nbconvert_exporter": "python",
   "pygments_lexer": "ipython3",
   "version": "3.11.5"
  }
 },
 "nbformat": 4,
 "nbformat_minor": 5
}
