{
 "cells": [
  {
   "cell_type": "markdown",
   "id": "c8036f8a",
   "metadata": {},
   "source": [
    "# Take Away\n",
    "\n",
    "\n",
    "<br>\n",
    "<br>\n",
    "\n",
    "\n",
    "\n",
    "### 1.Write a Python program to reverse a string.\n",
    "\n",
    "\n",
    "<br>\n",
    "<br>\n",
    "\n",
    "\n",
    "Sample String: \"1234abcd\"\n",
    "\n",
    "Expected Output: \"dcba4321\""
   ]
  },
  {
   "cell_type": "markdown",
   "id": "5db3cd11",
   "metadata": {},
   "source": [
    "### 2. What is the use of the following functions in Python Programming:\n",
    "\n",
    "\n",
    "\n",
    "1. truncate()\n",
    "\n",
    "\n",
    "2. ceil()\n",
    "\n",
    "\n",
    "3. round()\n",
    "\n",
    "\n",
    "4. floor()"
   ]
  },
  {
   "cell_type": "markdown",
   "id": "fbf071ba",
   "metadata": {},
   "source": [
    "# Solutions"
   ]
  },
  {
   "cell_type": "markdown",
   "id": "6fb70303",
   "metadata": {},
   "source": [
    "## 1.1"
   ]
  },
  {
   "cell_type": "code",
   "execution_count": 35,
   "id": "98267185",
   "metadata": {},
   "outputs": [
    {
     "name": "stdout",
     "output_type": "stream",
     "text": [
      "ecneics_atad\n"
     ]
    }
   ],
   "source": [
    "# Define a function named 'string_reverse' that takes a string 'str1' as input\n",
    "def string_reverse(str1):\n",
    "    # Initialize an empty string 'rstr1' to store the reversed string\n",
    "    rstr1 = ''\n",
    "    \n",
    "    # Calculate the length of the input string 'str1'\n",
    "    index = len(str1)\n",
    "    \n",
    "    # Execute a while loop until 'index' becomes 0\n",
    "    while index > 0:\n",
    "        # Concatenate the character at index - 1 of 'str1' to 'rstr1'\n",
    "        rstr1 += str1[index - 1]\n",
    "        \n",
    "        # Decrement the 'index' by 1 for the next iteration\n",
    "        index = index - 1\n",
    "    \n",
    "    # Return the reversed string stored in 'rstr1'\n",
    "    return rstr1\n",
    "\n",
    "# Print the result of calling the 'string_reverse' function with the input string '1234abcd'\n",
    "print(string_reverse('data_science'))\n"
   ]
  },
  {
   "cell_type": "markdown",
   "id": "2559b2d0",
   "metadata": {},
   "source": [
    "## 2.1"
   ]
  },
  {
   "cell_type": "code",
   "execution_count": 36,
   "id": "ce00cf9b",
   "metadata": {},
   "outputs": [
    {
     "data": {
      "text/plain": [
       "3.141592653589793"
      ]
     },
     "execution_count": 36,
     "metadata": {},
     "output_type": "execute_result"
    }
   ],
   "source": [
    "import math\n",
    "\n",
    "math.pi"
   ]
  },
  {
   "cell_type": "markdown",
   "id": "a5bc06a5",
   "metadata": {},
   "source": [
    "### truncate"
   ]
  },
  {
   "cell_type": "code",
   "execution_count": null,
   "id": "7dbd112c",
   "metadata": {},
   "outputs": [],
   "source": [
    "import math\n",
    "\n",
    "x = math.pi\n",
    "\n",
    "truncated_number = math.trunc(number)\n",
    "\n",
    "print(truncated_number) "
   ]
  },
  {
   "cell_type": "markdown",
   "id": "63985921",
   "metadata": {},
   "source": [
    "### ceil"
   ]
  },
  {
   "cell_type": "code",
   "execution_count": 37,
   "id": "18c397fa",
   "metadata": {},
   "outputs": [
    {
     "name": "stdout",
     "output_type": "stream",
     "text": [
      "4\n"
     ]
    }
   ],
   "source": [
    "import math\n",
    "\n",
    "x = math.pi\n",
    "ceil_result = math.ceil(number)\n",
    "\n",
    "print(ceil_result)  \n"
   ]
  },
  {
   "cell_type": "markdown",
   "id": "df89b94c",
   "metadata": {},
   "source": [
    "### round"
   ]
  },
  {
   "cell_type": "code",
   "execution_count": 38,
   "id": "a4d25a0d",
   "metadata": {},
   "outputs": [
    {
     "name": "stdout",
     "output_type": "stream",
     "text": [
      "3.14\n"
     ]
    }
   ],
   "source": [
    "x = math.pi\n",
    "\n",
    "rounded_number = round(number, 2)\n",
    "\n",
    "print(rounded_number) "
   ]
  },
  {
   "cell_type": "markdown",
   "id": "090440b8",
   "metadata": {},
   "source": [
    "### floor"
   ]
  },
  {
   "cell_type": "code",
   "execution_count": 39,
   "id": "93c6cd62",
   "metadata": {},
   "outputs": [
    {
     "name": "stdout",
     "output_type": "stream",
     "text": [
      "3\n"
     ]
    }
   ],
   "source": [
    "import math\n",
    "\n",
    "x = math.pi\n",
    "floor_result = math.floor(number)\n",
    "\n",
    "print(floor_result)  "
   ]
  }
 ],
 "metadata": {
  "kernelspec": {
   "display_name": "Python 3 (ipykernel)",
   "language": "python",
   "name": "python3"
  },
  "language_info": {
   "codemirror_mode": {
    "name": "ipython",
    "version": 3
   },
   "file_extension": ".py",
   "mimetype": "text/x-python",
   "name": "python",
   "nbconvert_exporter": "python",
   "pygments_lexer": "ipython3",
   "version": "3.11.5"
  }
 },
 "nbformat": 4,
 "nbformat_minor": 5
}
