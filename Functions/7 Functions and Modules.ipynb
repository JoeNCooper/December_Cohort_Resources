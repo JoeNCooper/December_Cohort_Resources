{
 "cells": [
  {
   "cell_type": "markdown",
   "id": "1691359c",
   "metadata": {},
   "source": [
    "# Functions and Modules"
   ]
  },
  {
   "cell_type": "markdown",
   "id": "89e87ef0",
   "metadata": {},
   "source": [
    "## Table of Contents\n",
    "\n",
    "### 1 Functions\n",
    "\n",
    "   * Defining functions\n",
    "   * Function arguments and parameters\n",
    "   * Returning values\n",
    "   \n",
    "### 2 Modules\n",
    "\n",
    "   * Importing modules\n",
    "   * Common Python modules (e.g., math, random, datetime)\n",
    "   \n"
   ]
  },
  {
   "cell_type": "markdown",
   "id": "0cc69ced",
   "metadata": {},
   "source": [
    "## Functions\n",
    "\n",
    "Functions are reusable pieces of code that perform a specific task. They help to keep the code organized, modular, and more readable.\n",
    "\n",
    "### Two types of functions:\n",
    "\n",
    "a. Built-in Functions\n",
    "\n",
    "b. User-defined Functions"
   ]
  },
  {
   "cell_type": "markdown",
   "id": "4c69ed3c",
   "metadata": {},
   "source": [
    "### Defining functions\n",
    "To define a function, use the def keyword, followed by the function name and parentheses."
   ]
  },
  {
   "cell_type": "code",
   "execution_count": 1,
   "id": "4ad3d652",
   "metadata": {},
   "outputs": [
    {
     "name": "stdout",
     "output_type": "stream",
     "text": [
      "Hello, world!\n"
     ]
    }
   ],
   "source": [
    "def greet():\n",
    "    print(\"Hello, world!\")\n",
    "\n",
    "greet()\n"
   ]
  },
  {
   "cell_type": "code",
   "execution_count": null,
   "id": "5ee4d847",
   "metadata": {},
   "outputs": [],
   "source": []
  },
  {
   "cell_type": "markdown",
   "id": "7df63455",
   "metadata": {},
   "source": [
    "### Function arguments and parameters\n",
    "Functions can take input values, called arguments, which are passed to the function when it is called. Inside the function, these input values are known as parameters."
   ]
  },
  {
   "cell_type": "code",
   "execution_count": 8,
   "id": "4f50fe20",
   "metadata": {},
   "outputs": [
    {
     "name": "stdout",
     "output_type": "stream",
     "text": [
      "Hello, Alice!\n"
     ]
    }
   ],
   "source": [
    "def greet(name):\n",
    "    print(f\"Hello, {name}!\")\n",
    "\n",
    "greet(\"Alice\")"
   ]
  },
  {
   "cell_type": "markdown",
   "id": "7ba85993",
   "metadata": {},
   "source": [
    "### Returning values\n",
    "Functions can return values using the return keyword."
   ]
  },
  {
   "cell_type": "code",
   "execution_count": 12,
   "id": "4328c2cb",
   "metadata": {},
   "outputs": [
    {
     "name": "stdout",
     "output_type": "stream",
     "text": [
      "64\n"
     ]
    }
   ],
   "source": [
    "def add(a, b):\n",
    "    return a + b\n",
    "\n",
    "result = add(4, 4)\n",
    "print(result)\n"
   ]
  },
  {
   "cell_type": "markdown",
   "id": "54b9c088",
   "metadata": {},
   "source": [
    "### lambda function \n",
    "A lambda function, also known as an anonymous function, is a way to define a small function in a single line of code without giving it a name. In Python, you can create a lambda function using the lambda keyword."
   ]
  },
  {
   "cell_type": "markdown",
   "id": "00fdbb37",
   "metadata": {},
   "source": [
    "The basic syntax of a lambda function is:"
   ]
  },
  {
   "cell_type": "raw",
   "id": "08ae53fd",
   "metadata": {},
   "source": [
    "lambda arguments: expression\n"
   ]
  },
  {
   "cell_type": "markdown",
   "id": "87b33de6",
   "metadata": {},
   "source": [
    "where arguments are the input parameters of the function, and expression is the operation to be performed on the input parameters.\n"
   ]
  },
  {
   "cell_type": "markdown",
   "id": "1b1b9a7d",
   "metadata": {},
   "source": [
    "Assume I want to write a function that returns twice the number I pass it. We can define a user-defined function as follows:\n",
    "\n",
    "def f(x):\n",
    "\n",
    "     return x * 2"
   ]
  },
  {
   "cell_type": "markdown",
   "id": "92aa5667",
   "metadata": {},
   "source": [
    "Now for a lambda function. We'll create it like this:"
   ]
  },
  {
   "cell_type": "markdown",
   "id": "fb32af7b",
   "metadata": {},
   "source": [
    "lambda x: x * 2"
   ]
  },
  {
   "cell_type": "code",
   "execution_count": 13,
   "id": "0041fc45",
   "metadata": {},
   "outputs": [
    {
     "data": {
      "text/plain": [
       "6"
      ]
     },
     "execution_count": 13,
     "metadata": {},
     "output_type": "execute_result"
    }
   ],
   "source": [
    "#Using parameters;\n",
    "\n",
    "(lambda x: x * 2)(3)"
   ]
  },
  {
   "cell_type": "markdown",
   "id": "6a915942",
   "metadata": {},
   "source": [
    "Using Variable"
   ]
  },
  {
   "cell_type": "code",
   "execution_count": 14,
   "id": "a1fbc266",
   "metadata": {},
   "outputs": [
    {
     "data": {
      "text/plain": [
       "12"
      ]
     },
     "execution_count": 14,
     "metadata": {},
     "output_type": "execute_result"
    }
   ],
   "source": [
    "sum = lambda x, y: x + y\n",
    "sum(9, 3)"
   ]
  },
  {
   "cell_type": "markdown",
   "id": "1989789f",
   "metadata": {},
   "source": [
    "### When Should You Use a Lambda Function"
   ]
  },
  {
   "cell_type": "markdown",
   "id": "671b6142",
   "metadata": {},
   "source": [
    "You should use the lambda function to create simple expressions. For example, expressions that do not include complex structures such as if-else, for-loops, and so on."
   ]
  },
  {
   "cell_type": "markdown",
   "id": "e1a0fa16",
   "metadata": {},
   "source": [
    "## 2. Modules\n",
    "Modules are files containing Python code. They can define functions, classes, and variables, and can be imported into other Python scripts."
   ]
  },
  {
   "cell_type": "markdown",
   "id": "899aff18",
   "metadata": {},
   "source": [
    "### Types of modules\n",
    "\n",
    "#### 1. Built-in modules\n",
    "\n",
    "Built-in modules come with default Python installation. One of Python’s most significant advantages is its rich library support that contains lots of built-in modules. Hence, it provides a lot of reusable code.\n",
    "\n",
    "Some commonly used Python built-in modules are datetime, os, math, sys, random, etc.\n",
    "\n",
    "\n",
    "#### 2. User-defined modules\n",
    "\n",
    "Developed by individuals"
   ]
  },
  {
   "cell_type": "markdown",
   "id": "1529570e",
   "metadata": {},
   "source": [
    "###  Importing modules\n",
    "To use a module in your code, you need to import it using the _**import**_ keyword"
   ]
  },
  {
   "cell_type": "code",
   "execution_count": 15,
   "id": "77a9a1ca",
   "metadata": {},
   "outputs": [
    {
     "name": "stdout",
     "output_type": "stream",
     "text": [
      "4.0\n"
     ]
    }
   ],
   "source": [
    "import math\n",
    "\n",
    "print(math.sqrt(16))\n"
   ]
  },
  {
   "cell_type": "code",
   "execution_count": 17,
   "id": "6597014b",
   "metadata": {},
   "outputs": [
    {
     "data": {
      "text/plain": [
       "3.0"
      ]
     },
     "execution_count": 17,
     "metadata": {},
     "output_type": "execute_result"
    }
   ],
   "source": [
    "math.sqrt(9)"
   ]
  },
  {
   "cell_type": "markdown",
   "id": "ecac272a",
   "metadata": {},
   "source": [
    "You can also import specific functions or classes from a module."
   ]
  },
  {
   "cell_type": "code",
   "execution_count": 6,
   "id": "f4e77626",
   "metadata": {
    "scrolled": true
   },
   "outputs": [
    {
     "name": "stdout",
     "output_type": "stream",
     "text": [
      "4.0\n"
     ]
    }
   ],
   "source": [
    "from math import sqrt\n",
    "\n",
    "print(sqrt(16))"
   ]
  },
  {
   "cell_type": "markdown",
   "id": "99598e70",
   "metadata": {},
   "source": [
    "### Common Python modules\n",
    "Here are some commonly used Python modules:"
   ]
  },
  {
   "cell_type": "markdown",
   "id": "2872dafa",
   "metadata": {},
   "source": [
    "#### math\n",
    "The math module provides mathematical functions and constants."
   ]
  },
  {
   "cell_type": "code",
   "execution_count": 7,
   "id": "f47cf091",
   "metadata": {},
   "outputs": [
    {
     "name": "stdout",
     "output_type": "stream",
     "text": [
      "3.141592653589793\n",
      "4.0\n"
     ]
    }
   ],
   "source": [
    "import math\n",
    "\n",
    "print(math.pi)\n",
    "print(math.sqrt(16))\n"
   ]
  },
  {
   "cell_type": "markdown",
   "id": "5a37f758",
   "metadata": {},
   "source": [
    "#### random\n",
    "The random module provides functions to generate random numbers"
   ]
  },
  {
   "cell_type": "code",
   "execution_count": 21,
   "id": "5e975b4a",
   "metadata": {},
   "outputs": [
    {
     "name": "stdout",
     "output_type": "stream",
     "text": [
      "3\n"
     ]
    }
   ],
   "source": [
    "import random\n",
    "\n",
    "print(random.randint(1, 6))  # Simulate a dice roll\n"
   ]
  },
  {
   "cell_type": "code",
   "execution_count": 24,
   "id": "b8f31589",
   "metadata": {},
   "outputs": [
    {
     "name": "stdout",
     "output_type": "stream",
     "text": [
      "2023-12-19 18:30:59.878175\n"
     ]
    }
   ],
   "source": [
    "import datetime\n",
    "now = datetime.datetime.now()\n",
    "print(now)"
   ]
  },
  {
   "cell_type": "markdown",
   "id": "b440e51d",
   "metadata": {},
   "source": [
    "#### datetime\n",
    "The datetime module provides functions and classes to work with dates and times."
   ]
  },
  {
   "cell_type": "code",
   "execution_count": 8,
   "id": "1b2c46c1",
   "metadata": {},
   "outputs": [
    {
     "name": "stdout",
     "output_type": "stream",
     "text": [
      "2023-12-16\n",
      "15:31:04.426448\n"
     ]
    }
   ],
   "source": [
    "import datetime\n",
    "\n",
    "today = datetime.date.today()\n",
    "print(today)\n",
    "\n",
    "now = datetime.datetime.now().time()\n",
    "print(now)\n"
   ]
  },
  {
   "cell_type": "markdown",
   "id": "8206fc89",
   "metadata": {},
   "source": [
    "# Assignment: Functions and Modules"
   ]
  },
  {
   "cell_type": "markdown",
   "id": "7599fd34",
   "metadata": {},
   "source": [
    "### Create a new Python Repl:\n",
    "\n",
    "* Follow the instructions in the \"Getting Started with Replit Python\" tutorial to create a new Python Repl.\n",
    "* Name your Repl \"Functions and ModulesAssignment\"."
   ]
  },
  {
   "cell_type": "markdown",
   "id": "deff9136",
   "metadata": {},
   "source": [
    "### Problem 1: Functions\n",
    "Create a function called multiply that takes two numbers as arguments and returns their product.\n",
    "\n"
   ]
  },
  {
   "cell_type": "markdown",
   "id": "aa758ebc",
   "metadata": {},
   "source": [
    "### Problem 2: Function arguments and parameters\n",
    "Create a function called describe_person that takes two parameters, name and age, and prints a description of the person.\n",
    "\n"
   ]
  },
  {
   "cell_type": "markdown",
   "id": "98fb66dc",
   "metadata": {},
   "source": [
    "### Problem 3: Returning values\n",
    "\n",
    "Create a function called calculate_area that takes the base and height of a triangle as arguments and returns the area of the triangle.\n",
    "\n"
   ]
  },
  {
   "cell_type": "markdown",
   "id": "68409029",
   "metadata": {},
   "source": [
    "### Problem 4: Importing modules\n",
    "Import the math module and use the sqrt function to calculate the square root of a number.\n",
    "\n"
   ]
  },
  {
   "cell_type": "markdown",
   "id": "2e3f5092",
   "metadata": {},
   "source": [
    "### Problem 5: Common Python modules\n",
    "    \n",
    "Using the random module, create a function called roll_dice that takes the number of sides of a die as an argument and returns a random number between 1 and the number of sides."
   ]
  },
  {
   "cell_type": "markdown",
   "id": "8e2b4ef9",
   "metadata": {},
   "source": [
    "### 6 Share your Python Repl:\n",
    "    \n",
    "Once you have completed the tasks above, share your Repl by following the instructions in the \"Getting Started with Replit Python\" tutorial.\n",
    "Submit the link to your shared Repl as your assignment.\n",
    "\n",
    "Note: If you encounter any difficulties or have questions about Python control flow and loops, you can refer to the Python documentation"
   ]
  },
  {
   "cell_type": "code",
   "execution_count": null,
   "id": "5dacc074",
   "metadata": {},
   "outputs": [],
   "source": []
  }
 ],
 "metadata": {
  "kernelspec": {
   "display_name": "Python 3 (ipykernel)",
   "language": "python",
   "name": "python3"
  },
  "language_info": {
   "codemirror_mode": {
    "name": "ipython",
    "version": 3
   },
   "file_extension": ".py",
   "mimetype": "text/x-python",
   "name": "python",
   "nbconvert_exporter": "python",
   "pygments_lexer": "ipython3",
   "version": "3.11.5"
  }
 },
 "nbformat": 4,
 "nbformat_minor": 5
}
