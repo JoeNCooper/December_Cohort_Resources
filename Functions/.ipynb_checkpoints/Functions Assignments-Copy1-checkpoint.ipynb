{
 "cells": [
  {
   "cell_type": "markdown",
   "id": "c8036f8a",
   "metadata": {},
   "source": [
    "# Take Away\n",
    "\n",
    "\n",
    "<br>\n",
    "<br>\n",
    "\n",
    "\n",
    "\n",
    "### 1.Write a Python program to reverse a string.\n",
    "\n",
    "\n",
    "<br>\n",
    "<br>\n",
    "\n",
    "\n",
    "Sample String: \"1234abcd\"\n",
    "\n",
    "Expected Output: \"dcba4321\""
   ]
  },
  {
   "cell_type": "markdown",
   "id": "5db3cd11",
   "metadata": {},
   "source": [
    "### 2. What is the use of the following functions in Python Programming:\n",
    "\n",
    "\n",
    "\n",
    "1. truncate()\n",
    "\n",
    "\n",
    "2. ceil()\n",
    "\n",
    "\n",
    "3. round()\n",
    "\n",
    "\n",
    "4. floor()"
   ]
  },
  {
   "cell_type": "markdown",
   "id": "c99f1f38",
   "metadata": {},
   "source": [
    "### truncate"
   ]
  },
  {
   "cell_type": "code",
   "execution_count": 16,
   "id": "54ef2885",
   "metadata": {},
   "outputs": [
    {
     "name": "stdout",
     "output_type": "stream",
     "text": [
      "3\n"
     ]
    }
   ],
   "source": [
    "import math\n",
    "\n",
    "x = math.pi\n",
    "\n",
    "truncated_number = math.trunc(number)\n",
    "\n",
    "print(truncated_number)  \n"
   ]
  },
  {
   "cell_type": "markdown",
   "id": "490d5c13",
   "metadata": {},
   "source": [
    "### ceil"
   ]
  },
  {
   "cell_type": "code",
   "execution_count": 18,
   "id": "c74a8d60",
   "metadata": {},
   "outputs": [
    {
     "name": "stdout",
     "output_type": "stream",
     "text": [
      "4\n"
     ]
    }
   ],
   "source": [
    "import math\n",
    "\n",
    "x = math.pi\n",
    "ceil_result = math.ceil(number)\n",
    "\n",
    "print(ceil_result)  \n"
   ]
  },
  {
   "cell_type": "markdown",
   "id": "97568d84",
   "metadata": {},
   "source": [
    "### round"
   ]
  },
  {
   "cell_type": "code",
   "execution_count": 19,
   "id": "794fd970",
   "metadata": {},
   "outputs": [
    {
     "name": "stdout",
     "output_type": "stream",
     "text": [
      "3.14\n"
     ]
    }
   ],
   "source": [
    "x = math.pi\n",
    "\n",
    "rounded_number = round(number, 2)\n",
    "\n",
    "print(rounded_number)  "
   ]
  },
  {
   "cell_type": "markdown",
   "id": "1e3b6466",
   "metadata": {},
   "source": [
    "### floor"
   ]
  },
  {
   "cell_type": "code",
   "execution_count": 20,
   "id": "3b5c2d83",
   "metadata": {},
   "outputs": [
    {
     "name": "stdout",
     "output_type": "stream",
     "text": [
      "3\n"
     ]
    }
   ],
   "source": [
    "import math\n",
    "\n",
    "x = math.pi\n",
    "floor_result = math.floor(number)\n",
    "\n",
    "print(floor_result)  "
   ]
  },
  {
   "cell_type": "code",
   "execution_count": null,
   "id": "59b60b5b",
   "metadata": {},
   "outputs": [],
   "source": []
  },
  {
   "cell_type": "code",
   "execution_count": null,
   "id": "554b2996",
   "metadata": {},
   "outputs": [],
   "source": []
  },
  {
   "cell_type": "code",
   "execution_count": null,
   "id": "f291ea04",
   "metadata": {},
   "outputs": [],
   "source": []
  },
  {
   "cell_type": "code",
   "execution_count": null,
   "id": "90cd3495",
   "metadata": {},
   "outputs": [],
   "source": []
  },
  {
   "cell_type": "code",
   "execution_count": null,
   "id": "84fc9d20",
   "metadata": {},
   "outputs": [],
   "source": []
  },
  {
   "cell_type": "code",
   "execution_count": null,
   "id": "dd01d893",
   "metadata": {},
   "outputs": [],
   "source": []
  },
  {
   "cell_type": "code",
   "execution_count": null,
   "id": "33802667",
   "metadata": {},
   "outputs": [],
   "source": []
  },
  {
   "cell_type": "code",
   "execution_count": null,
   "id": "6a2a9211",
   "metadata": {},
   "outputs": [],
   "source": []
  },
  {
   "cell_type": "code",
   "execution_count": 5,
   "id": "98267185",
   "metadata": {},
   "outputs": [
    {
     "name": "stdout",
     "output_type": "stream",
     "text": [
      "ebutuoyneb\n"
     ]
    }
   ],
   "source": [
    "# Define a function named 'string_reverse' that takes a string 'str1' as input\n",
    "def string_reverse(str1):\n",
    "    # Initialize an empty string 'rstr1' to store the reversed string\n",
    "    rstr1 = ''\n",
    "    \n",
    "    # Calculate the length of the input string 'str1'\n",
    "    index = len(str1)\n",
    "    \n",
    "    # Execute a while loop until 'index' becomes 0\n",
    "    while index > 0:\n",
    "        # Concatenate the character at index - 1 of 'str1' to 'rstr1'\n",
    "        rstr1 += str1[index - 1]\n",
    "        \n",
    "        # Decrement the 'index' by 1 for the next iteration\n",
    "        index = index - 1\n",
    "    \n",
    "    # Return the reversed string stored in 'rstr1'\n",
    "    return rstr1\n",
    "\n",
    "# Print the result of calling the 'string_reverse' function with the input string '1234abcd'\n",
    "print(string_reverse('benyoutube'))\n"
   ]
  },
  {
   "cell_type": "code",
   "execution_count": null,
   "id": "0da6178e",
   "metadata": {},
   "outputs": [],
   "source": []
  }
 ],
 "metadata": {
  "kernelspec": {
   "display_name": "Python 3 (ipykernel)",
   "language": "python",
   "name": "python3"
  },
  "language_info": {
   "codemirror_mode": {
    "name": "ipython",
    "version": 3
   },
   "file_extension": ".py",
   "mimetype": "text/x-python",
   "name": "python",
   "nbconvert_exporter": "python",
   "pygments_lexer": "ipython3",
   "version": "3.11.5"
  }
 },
 "nbformat": 4,
 "nbformat_minor": 5
}
