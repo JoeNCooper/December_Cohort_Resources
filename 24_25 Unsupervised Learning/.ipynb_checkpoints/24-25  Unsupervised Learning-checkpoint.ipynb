{
 "cells": [
  {
   "cell_type": "markdown",
   "id": "e97582e0",
   "metadata": {},
   "source": [
    "# Unsupervised Learning ( LESSON 1)"
   ]
  },
  {
   "cell_type": "markdown",
   "id": "d8165182",
   "metadata": {},
   "source": [
    "## Table of Content \n",
    "\n",
    "### 1 Introduction to Unsupervised Learning\n",
    "\n",
    "* Definition and purpose\n",
    "* Differences between supervised and unsupervised learning\n",
    "* Types of unsupervised learning (clustering, dimensionality reduction, etc.)\n",
    "* Real-world applications\n",
    "\n",
    "\n",
    "### 2 Data Preprocessing\n",
    "\n",
    "* Handling missing data\n",
    "* Feature scaling and normalization\n",
    "* Encoding categorical data\n",
    "\n",
    "### 3 Clustering Algorithms\n",
    "\n",
    "* K-means clustering\n",
    "* Hierarchical clustering\n",
    "* DBSCAN (Density-Based Spatial Clustering of Applications with Noise)\n",
    "* demonstrate examples of K-means clustering  hierarchical clustering and  DBSCAN using data\n",
    "\n",
    "### 4Dimensionality Reduction Techniques\n",
    "\n",
    "* Principal Component Analysis (PCA)\n",
    "* t-distributed Stochastic Neighbor Embedding (t-SNE)\n",
    "* Use the UCI ML Wine recognition dataset again to demonstrate dimensionality reduction techniques, PCA and t-SNE\n",
    "\n",
    "### 5 Anomaly Detection\n",
    "\n",
    "* One-Class Support Vector Machine (SVM)\n",
    "* Isolation Forest\n",
    "* Demo using the UCI ML Wine recognition dataset\n",
    "\n",
    "### 6 Association Rule Learning\n",
    "\n",
    "* Apriori algorithm\n",
    "* Algorithm overview\n",
    "* Implementation using external libraries (e.g., mlxtend)  \n",
    "\n",
    "### 7 Real-world Applications and Case Studies\n",
    "\n",
    "* Customer segmentation\n",
    "* Recommender systems\n",
    "* Outlier detection\n",
    "\n",
    "### 8 Assingment "
   ]
  },
  {
   "cell_type": "markdown",
   "id": "bcba6916",
   "metadata": {},
   "source": [
    "## 1 Introduction to Unsupervised Learning\n",
    "\n",
    "### Definition and purpose:\n",
    "    \n",
    "Unsupervised learning is a type of machine learning in which algorithms learn to identify patterns, structures, or relationships within unlabelled data. The primary purpose of unsupervised learning is to uncover hidden structures, groupings, or associations in the data that might not be apparent to human intuition or observation.\n",
    "\n",
    "### Differences between supervised and unsupervised learning:\n",
    "\n",
    "* **Supervised learning**: In supervised learning, the model is trained on a labeled dataset, where both input features and corresponding output labels are provided. The goal is to learn a mapping from input features to output labels, making it easier to predict labels for new, unseen data. Examples of supervised learning tasks include classification and regression.\n",
    "* **Unsupervised learning**: In unsupervised learning, the model is trained on an unlabeled dataset, containing only input features without corresponding output labels. The goal is to identify patterns or structures in the data without any prior knowledge or guidance. This is useful when the data's underlying structure is unknown or difficult to label.\n",
    "\n",
    "### Types of unsupervised learning:\n",
    "\n",
    "* **Clustering**: Clustering is the process of grouping similar data points based on their features or relationships. Common clustering algorithms include K-means, hierarchical clustering, and DBSCAN.\n",
    "* **Dimensionality reduction**: Dimensionality reduction techniques aim to reduce the number of features or dimensions in a dataset while preserving its essential structure or relationships. This is useful for improving computational efficiency, visualization, and noise reduction. Common dimensionality reduction techniques include Principal Component Analysis (PCA) and t-distributed Stochastic Neighbor Embedding (t-SNE).\n",
    "* **Anomaly detection**: Anomaly detection aims to identify data points that deviate significantly from the majority or normal behavior of the dataset. Examples of anomaly detection algorithms include One-Class Support Vector Machines (SVM) and Isolation Forest.\n",
    "* **Association rule learning**: Association rule learning focuses on discovering relationships or associations between features in a dataset. A popular algorithm for association rule learning is the Apriori algorithm.\n",
    "\n",
    "### Real-world applications:\n",
    "* Customer segmentation: \n",
    "\n",
    "\n",
    "Unsupervised learning can be used to group customers based on their purchasing behavior, preferences, or demographic information, helping businesses develop targeted marketing strategies.\n",
    "* Recommender systems:\n",
    "\n",
    "\n",
    "Unsupervised learning algorithms can uncover patterns in user behavior, preferences, or item similarities, which can be used to recommend relevant items or content to users.\n",
    "* Image compression:\n",
    "\n",
    "\n",
    "Dimensionality reduction techniques can be applied to reduce the size of image data while maintaining the essential information, resulting in efficient storage and transmission.\n",
    "* Outlier detection: \n",
    "\n",
    "\n",
    "Anomaly detection algorithms can identify unusual or suspicious activities in various domains, such as fraud detection, network security, and quality control in manufacturing."
   ]
  },
  {
   "cell_type": "markdown",
   "id": "46563922",
   "metadata": {},
   "source": [
    "## 2 Data Preprocessing\n",
    "\n",
    "Data preprocessing is a crucial step in machine learning, as it prepares the raw data for efficient and effective model training. Here are some essential preprocessing techniques:\n",
    "\n",
    "### Handling missing data:\n",
    "\n",
    "Missing data can adversely impact the performance of machine learning algorithms. There are several strategies to deal with missing data:\n",
    "\n",
    "    \n",
    "#### Remove rows with missing values:"
   ]
  },
  {
   "cell_type": "code",
   "execution_count": 46,
   "id": "724453ea",
   "metadata": {},
   "outputs": [],
   "source": [
    "import pandas as pd\n",
    "df = pd.read_csv('./data/data.csv')\n",
    "df.dropna(inplace=True)"
   ]
  },
  {
   "cell_type": "code",
   "execution_count": null,
   "id": "01bc2b24-85f1-4b5c-94bc-28a39510df5f",
   "metadata": {},
   "outputs": [],
   "source": [
    "# rows have missing values\n",
    "# columns that have missing values\n",
    "#df = drop(columns=['features'], axis=1)"
   ]
  },
  {
   "cell_type": "code",
   "execution_count": 47,
   "id": "9530fac3",
   "metadata": {
    "scrolled": true
   },
   "outputs": [
    {
     "data": {
      "text/html": [
       "<div>\n",
       "<style scoped>\n",
       "    .dataframe tbody tr th:only-of-type {\n",
       "        vertical-align: middle;\n",
       "    }\n",
       "\n",
       "    .dataframe tbody tr th {\n",
       "        vertical-align: top;\n",
       "    }\n",
       "\n",
       "    .dataframe thead th {\n",
       "        text-align: right;\n",
       "    }\n",
       "</style>\n",
       "<table border=\"1\" class=\"dataframe\">\n",
       "  <thead>\n",
       "    <tr style=\"text-align: right;\">\n",
       "      <th></th>\n",
       "      <th>Latitude</th>\n",
       "      <th>Longitude</th>\n",
       "      <th>Category</th>\n",
       "    </tr>\n",
       "  </thead>\n",
       "  <tbody>\n",
       "    <tr>\n",
       "      <th>0</th>\n",
       "      <td>40.7128</td>\n",
       "      <td>-74.0060</td>\n",
       "      <td>Category 1</td>\n",
       "    </tr>\n",
       "    <tr>\n",
       "      <th>1</th>\n",
       "      <td>34.0522</td>\n",
       "      <td>-118.2437</td>\n",
       "      <td>Category 2</td>\n",
       "    </tr>\n",
       "    <tr>\n",
       "      <th>2</th>\n",
       "      <td>41.8781</td>\n",
       "      <td>-87.6298</td>\n",
       "      <td>Category 3</td>\n",
       "    </tr>\n",
       "    <tr>\n",
       "      <th>3</th>\n",
       "      <td>37.7749</td>\n",
       "      <td>-122.4194</td>\n",
       "      <td>Category 1</td>\n",
       "    </tr>\n",
       "    <tr>\n",
       "      <th>4</th>\n",
       "      <td>47.6062</td>\n",
       "      <td>-122.3321</td>\n",
       "      <td>Category 2</td>\n",
       "    </tr>\n",
       "  </tbody>\n",
       "</table>\n",
       "</div>"
      ],
      "text/plain": [
       "   Latitude  Longitude    Category\n",
       "0   40.7128   -74.0060  Category 1\n",
       "1   34.0522  -118.2437  Category 2\n",
       "2   41.8781   -87.6298  Category 3\n",
       "3   37.7749  -122.4194  Category 1\n",
       "4   47.6062  -122.3321  Category 2"
      ]
     },
     "execution_count": 47,
     "metadata": {},
     "output_type": "execute_result"
    }
   ],
   "source": [
    "df.head()"
   ]
  },
  {
   "cell_type": "markdown",
   "id": "f5bada3f",
   "metadata": {},
   "source": [
    "####  Impute missing values with mean, median, or mode (for numerical data):"
   ]
  },
  {
   "cell_type": "code",
   "execution_count": 43,
   "id": "26429d0f",
   "metadata": {},
   "outputs": [],
   "source": [
    "from sklearn.impute import SimpleImputer\n",
    "\n",
    "imputer = SimpleImputer(strategy='mean') # or 'median', 'most_frequent'\n",
    "df[['Latitude', 'Longitude']] = imputer.fit_transform(df[['Latitude', 'Longitude']])\n"
   ]
  },
  {
   "cell_type": "markdown",
   "id": "0b714712",
   "metadata": {},
   "source": [
    "#### Impute missing values using more advanced techniques, such as k-NN imputation (for both numerical and categorical data):"
   ]
  },
  {
   "cell_type": "code",
   "execution_count": null,
   "id": "7fb4ec8b",
   "metadata": {},
   "outputs": [],
   "source": [
    "from sklearn.impute import KNNImputer\n",
    "\n",
    "imputer = KNNImputer(n_neighbors=3)\n",
    "\n",
    "df[['Latitude', 'Longitude']] = imputer.fit_transform(df[['Latitude', 'Longitude']])\n"
   ]
  },
  {
   "cell_type": "markdown",
   "id": "7b49fb6b",
   "metadata": {},
   "source": [
    "### Feature scaling and normalization:\n",
    "\n",
    "Feature scaling ensures that all features have the same scale or range, which is important for many unsupervised learning algorithms. Common feature scaling techniques include:"
   ]
  },
  {
   "cell_type": "markdown",
   "id": "7fd7bb6c",
   "metadata": {},
   "source": [
    "#### Min-max scaling (normalization):    This ensures that all the features have a value between 0 and 1."
   ]
  },
  {
   "cell_type": "markdown",
   "id": "9a89e9d2",
   "metadata": {},
   "source": [
    "The idea behind min-max scaling is to rescale the original feature values to a range between 0 and 1. This is done by subtracting the minimum value of the feature and then dividing by the range (the maximum value minus the minimum value). The formula for min-max scaling is:\n",
    "\n",
    "X_normalized = (X - X_min) / (X_max - X_min)\n",
    "\n",
    "\n",
    "Where X is the original feature value, X_min is the minimum value of the feature, and X_max is the maximum value of the feature.\n",
    "\n",
    "The resulting normalized feature values will have a minimum value of 0 and a maximum value of 1, with all other values scaled proportionally in between\n"
   ]
  },
  {
   "cell_type": "code",
   "execution_count": 44,
   "id": "a1cf9073",
   "metadata": {},
   "outputs": [],
   "source": [
    "from sklearn.preprocessing import MinMaxScaler\n",
    "scaler = MinMaxScaler()\n",
    "df[['Latitude', 'Longitude']] = scaler.fit_transform(df[['Latitude', 'Longitude']])\n"
   ]
  },
  {
   "cell_type": "code",
   "execution_count": 45,
   "id": "0d7be2bc-86ca-4004-aa36-6f97abe5d9a6",
   "metadata": {},
   "outputs": [
    {
     "data": {
      "text/html": [
       "<div>\n",
       "<style scoped>\n",
       "    .dataframe tbody tr th:only-of-type {\n",
       "        vertical-align: middle;\n",
       "    }\n",
       "\n",
       "    .dataframe tbody tr th {\n",
       "        vertical-align: top;\n",
       "    }\n",
       "\n",
       "    .dataframe thead th {\n",
       "        text-align: right;\n",
       "    }\n",
       "</style>\n",
       "<table border=\"1\" class=\"dataframe\">\n",
       "  <thead>\n",
       "    <tr style=\"text-align: right;\">\n",
       "      <th></th>\n",
       "      <th>Latitude</th>\n",
       "      <th>Longitude</th>\n",
       "      <th>Category</th>\n",
       "    </tr>\n",
       "  </thead>\n",
       "  <tbody>\n",
       "    <tr>\n",
       "      <th>0</th>\n",
       "      <td>0.491412</td>\n",
       "      <td>1.000000</td>\n",
       "      <td>Category 1</td>\n",
       "    </tr>\n",
       "    <tr>\n",
       "      <th>1</th>\n",
       "      <td>0.000000</td>\n",
       "      <td>0.086251</td>\n",
       "      <td>Category 2</td>\n",
       "    </tr>\n",
       "    <tr>\n",
       "      <th>2</th>\n",
       "      <td>0.577387</td>\n",
       "      <td>0.718594</td>\n",
       "      <td>Category 3</td>\n",
       "    </tr>\n",
       "    <tr>\n",
       "      <th>3</th>\n",
       "      <td>0.274657</td>\n",
       "      <td>0.000000</td>\n",
       "      <td>Category 1</td>\n",
       "    </tr>\n",
       "    <tr>\n",
       "      <th>4</th>\n",
       "      <td>1.000000</td>\n",
       "      <td>0.001803</td>\n",
       "      <td>Category 2</td>\n",
       "    </tr>\n",
       "  </tbody>\n",
       "</table>\n",
       "</div>"
      ],
      "text/plain": [
       "   Latitude  Longitude    Category\n",
       "0  0.491412   1.000000  Category 1\n",
       "1  0.000000   0.086251  Category 2\n",
       "2  0.577387   0.718594  Category 3\n",
       "3  0.274657   0.000000  Category 1\n",
       "4  1.000000   0.001803  Category 2"
      ]
     },
     "execution_count": 45,
     "metadata": {},
     "output_type": "execute_result"
    }
   ],
   "source": [
    "df"
   ]
  },
  {
   "cell_type": "markdown",
   "id": "0d661799",
   "metadata": {},
   "source": [
    "#### Standardization (mean=0, standard deviation=1):\n",
    "\n",
    "* Standardization is a data preprocessing technique used in machine learning to transform numerical data features into a standard scale with zero mean and unit variance.\n",
    "\n",
    "* The process of standardization involves subtracting the mean of the feature values from each value and then dividing by the standard deviation. This results in a new set of values that have a mean of 0 and a standard deviation of 1.\n",
    "\n",
    "* The formula for standardization is:\n",
    "\n",
    "\n",
    "X_standardized = (X - mean(X)) / std(X)\n",
    "\n",
    "\n",
    "Where X is the original feature value, mean(X) is the mean of the feature, and std(X) is the standard deviation of the feature.\n",
    "\n",
    "\n",
    "For example, suppose we have a dataset with a feature called \"age\" and the mean age is 35 with a standard deviation of 10. To standardize this feature, we would subtract 35 from each age value and then divide by 10. The resulting standardized age values would have a mean of 0 and a standard deviation of 1."
   ]
  },
  {
   "cell_type": "code",
   "execution_count": 48,
   "id": "e3091b18",
   "metadata": {},
   "outputs": [],
   "source": [
    "from sklearn.preprocessing import StandardScaler\n",
    "scaler = StandardScaler()\n",
    "df[['Latitude', 'Longitude']] = scaler.fit_transform(df[['Latitude', 'Longitude']])\n"
   ]
  },
  {
   "cell_type": "code",
   "execution_count": 49,
   "id": "c34beeae-2de5-424f-87d6-db1d0baf5cea",
   "metadata": {},
   "outputs": [
    {
     "data": {
      "text/html": [
       "<div>\n",
       "<style scoped>\n",
       "    .dataframe tbody tr th:only-of-type {\n",
       "        vertical-align: middle;\n",
       "    }\n",
       "\n",
       "    .dataframe tbody tr th {\n",
       "        vertical-align: top;\n",
       "    }\n",
       "\n",
       "    .dataframe thead th {\n",
       "        text-align: right;\n",
       "    }\n",
       "</style>\n",
       "<table border=\"1\" class=\"dataframe\">\n",
       "  <thead>\n",
       "    <tr style=\"text-align: right;\">\n",
       "      <th></th>\n",
       "      <th>Latitude</th>\n",
       "      <th>Longitude</th>\n",
       "      <th>Category</th>\n",
       "    </tr>\n",
       "  </thead>\n",
       "  <tbody>\n",
       "    <tr>\n",
       "      <th>0</th>\n",
       "      <td>0.068386</td>\n",
       "      <td>1.530194</td>\n",
       "      <td>Category 1</td>\n",
       "    </tr>\n",
       "    <tr>\n",
       "      <th>1</th>\n",
       "      <td>-1.410670</td>\n",
       "      <td>-0.659063</td>\n",
       "      <td>Category 2</td>\n",
       "    </tr>\n",
       "    <tr>\n",
       "      <th>2</th>\n",
       "      <td>0.327153</td>\n",
       "      <td>0.855973</td>\n",
       "      <td>Category 3</td>\n",
       "    </tr>\n",
       "    <tr>\n",
       "      <th>3</th>\n",
       "      <td>-0.584006</td>\n",
       "      <td>-0.865712</td>\n",
       "      <td>Category 1</td>\n",
       "    </tr>\n",
       "    <tr>\n",
       "      <th>4</th>\n",
       "      <td>1.599138</td>\n",
       "      <td>-0.861392</td>\n",
       "      <td>Category 2</td>\n",
       "    </tr>\n",
       "  </tbody>\n",
       "</table>\n",
       "</div>"
      ],
      "text/plain": [
       "   Latitude  Longitude    Category\n",
       "0  0.068386   1.530194  Category 1\n",
       "1 -1.410670  -0.659063  Category 2\n",
       "2  0.327153   0.855973  Category 3\n",
       "3 -0.584006  -0.865712  Category 1\n",
       "4  1.599138  -0.861392  Category 2"
      ]
     },
     "execution_count": 49,
     "metadata": {},
     "output_type": "execute_result"
    }
   ],
   "source": [
    "df"
   ]
  },
  {
   "cell_type": "markdown",
   "id": "058cf279",
   "metadata": {},
   "source": [
    "### Encoding categorical data:\n",
    "\n",
    "Categorical data must be converted into numerical values before being used in machine learning algorithms. Common encoding techniques include:"
   ]
  },
  {
   "cell_type": "markdown",
   "id": "0540a6db",
   "metadata": {},
   "source": [
    "#### Label encoding (for ordinal categorical data):"
   ]
  },
  {
   "cell_type": "markdown",
   "id": "3d73ff76",
   "metadata": {},
   "source": [
    "Ordinal data, on the other hand, is data that consists of categories or labels that can be ordered or ranked in a meaningful way. "
   ]
  },
  {
   "cell_type": "code",
   "execution_count": null,
   "id": "1caea8ab",
   "metadata": {},
   "outputs": [],
   "source": [
    "from sklearn.preprocessing import LabelEncoder\n",
    "\n",
    "encoder = LabelEncoder()\n",
    "\n",
    "df['ordinal_categorical_feature'] = encoder.fit_transform(df['ordinal_categorical_feature'])\n"
   ]
  },
  {
   "cell_type": "markdown",
   "id": "3ebacbae",
   "metadata": {},
   "source": [
    "#### One-hot encoding (for nominal categorical data):"
   ]
  },
  {
   "cell_type": "markdown",
   "id": "53cd50c7",
   "metadata": {},
   "source": [
    "Nominal data is data that consists of categories or labels that have no inherent order or ranking"
   ]
  },
  {
   "cell_type": "code",
   "execution_count": 50,
   "id": "f4519cf2",
   "metadata": {},
   "outputs": [],
   "source": [
    "import pandas as pd\n",
    "\n",
    "df = pd.get_dummies(df, columns=['Category'], drop_first=True)"
   ]
  },
  {
   "cell_type": "code",
   "execution_count": 51,
   "id": "50fa21fb-18be-44b9-bcda-b9bcd306aaa7",
   "metadata": {},
   "outputs": [
    {
     "data": {
      "text/html": [
       "<div>\n",
       "<style scoped>\n",
       "    .dataframe tbody tr th:only-of-type {\n",
       "        vertical-align: middle;\n",
       "    }\n",
       "\n",
       "    .dataframe tbody tr th {\n",
       "        vertical-align: top;\n",
       "    }\n",
       "\n",
       "    .dataframe thead th {\n",
       "        text-align: right;\n",
       "    }\n",
       "</style>\n",
       "<table border=\"1\" class=\"dataframe\">\n",
       "  <thead>\n",
       "    <tr style=\"text-align: right;\">\n",
       "      <th></th>\n",
       "      <th>Latitude</th>\n",
       "      <th>Longitude</th>\n",
       "      <th>Category_Category 2</th>\n",
       "      <th>Category_Category 3</th>\n",
       "    </tr>\n",
       "  </thead>\n",
       "  <tbody>\n",
       "    <tr>\n",
       "      <th>0</th>\n",
       "      <td>0.068386</td>\n",
       "      <td>1.530194</td>\n",
       "      <td>False</td>\n",
       "      <td>False</td>\n",
       "    </tr>\n",
       "    <tr>\n",
       "      <th>1</th>\n",
       "      <td>-1.410670</td>\n",
       "      <td>-0.659063</td>\n",
       "      <td>True</td>\n",
       "      <td>False</td>\n",
       "    </tr>\n",
       "    <tr>\n",
       "      <th>2</th>\n",
       "      <td>0.327153</td>\n",
       "      <td>0.855973</td>\n",
       "      <td>False</td>\n",
       "      <td>True</td>\n",
       "    </tr>\n",
       "    <tr>\n",
       "      <th>3</th>\n",
       "      <td>-0.584006</td>\n",
       "      <td>-0.865712</td>\n",
       "      <td>False</td>\n",
       "      <td>False</td>\n",
       "    </tr>\n",
       "    <tr>\n",
       "      <th>4</th>\n",
       "      <td>1.599138</td>\n",
       "      <td>-0.861392</td>\n",
       "      <td>True</td>\n",
       "      <td>False</td>\n",
       "    </tr>\n",
       "  </tbody>\n",
       "</table>\n",
       "</div>"
      ],
      "text/plain": [
       "   Latitude  Longitude  Category_Category 2  Category_Category 3\n",
       "0  0.068386   1.530194                False                False\n",
       "1 -1.410670  -0.659063                 True                False\n",
       "2  0.327153   0.855973                False                 True\n",
       "3 -0.584006  -0.865712                False                False\n",
       "4  1.599138  -0.861392                 True                False"
      ]
     },
     "execution_count": 51,
     "metadata": {},
     "output_type": "execute_result"
    }
   ],
   "source": [
    "df.head()"
   ]
  },
  {
   "cell_type": "markdown",
   "id": "74d6ac06",
   "metadata": {},
   "source": [
    "## 3 Clustering Algorithms"
   ]
  },
  {
   "cell_type": "markdown",
   "id": "aadbde57",
   "metadata": {},
   "source": [
    "### K-means clustering:\n",
    "\n",
    "#### Algorithm overview:\n",
    "\n",
    "K-means is a popular clustering algorithm that aims to partition a dataset into K distinct, non-overlapping clusters based on the similarity of data points. The algorithm iteratively refines the cluster centroids until convergence or a maximum number of iterations is reached. The steps are as follows:\n",
    "\n",
    "* Initialize K cluster centroids randomly.\n",
    "* Assign each data point to the nearest centroid.\n",
    "* Update the centroids by computing the mean of all data points in the cluster.\n",
    "* Repeat steps 2 and 3 until convergence or a maximum number of iterations is reached."
   ]
  },
  {
   "cell_type": "markdown",
   "id": "fb977e88",
   "metadata": {},
   "source": [
    "#### Implementation using sklearn.cluster.KMeans:"
   ]
  },
  {
   "cell_type": "code",
   "execution_count": 52,
   "id": "438cb030",
   "metadata": {
    "scrolled": true
   },
   "outputs": [
    {
     "data": {
      "text/plain": [
       "array([2, 0, 1, 0, 0])"
      ]
     },
     "execution_count": 52,
     "metadata": {},
     "output_type": "execute_result"
    }
   ],
   "source": [
    "from sklearn.cluster import KMeans\n",
    "\n",
    "# Initialize the KMeans model with the desired number of clusters\n",
    "kmeans = KMeans(n_clusters=3, random_state=42)\n",
    "\n",
    "#dataset\n",
    "data = pd.read_csv('./data/data.csv').drop('Category', axis=1)\n",
    "\n",
    "# Fit the model to the data\n",
    "kmeans.fit(data)\n",
    "\n",
    "# Get the cluster assignments for each data point\n",
    "cluster_labels = kmeans.labels_\n",
    "cluster_labels"
   ]
  },
  {
   "cell_type": "code",
   "execution_count": 53,
   "id": "04e5932f",
   "metadata": {},
   "outputs": [],
   "source": [
    "data['cluster'] = cluster_labels"
   ]
  },
  {
   "cell_type": "code",
   "execution_count": 54,
   "id": "32fae134",
   "metadata": {},
   "outputs": [
    {
     "data": {
      "text/html": [
       "<div>\n",
       "<style scoped>\n",
       "    .dataframe tbody tr th:only-of-type {\n",
       "        vertical-align: middle;\n",
       "    }\n",
       "\n",
       "    .dataframe tbody tr th {\n",
       "        vertical-align: top;\n",
       "    }\n",
       "\n",
       "    .dataframe thead th {\n",
       "        text-align: right;\n",
       "    }\n",
       "</style>\n",
       "<table border=\"1\" class=\"dataframe\">\n",
       "  <thead>\n",
       "    <tr style=\"text-align: right;\">\n",
       "      <th></th>\n",
       "      <th>Latitude</th>\n",
       "      <th>Longitude</th>\n",
       "      <th>cluster</th>\n",
       "    </tr>\n",
       "  </thead>\n",
       "  <tbody>\n",
       "    <tr>\n",
       "      <th>0</th>\n",
       "      <td>40.7128</td>\n",
       "      <td>-74.0060</td>\n",
       "      <td>2</td>\n",
       "    </tr>\n",
       "    <tr>\n",
       "      <th>1</th>\n",
       "      <td>34.0522</td>\n",
       "      <td>-118.2437</td>\n",
       "      <td>0</td>\n",
       "    </tr>\n",
       "    <tr>\n",
       "      <th>2</th>\n",
       "      <td>41.8781</td>\n",
       "      <td>-87.6298</td>\n",
       "      <td>1</td>\n",
       "    </tr>\n",
       "    <tr>\n",
       "      <th>3</th>\n",
       "      <td>37.7749</td>\n",
       "      <td>-122.4194</td>\n",
       "      <td>0</td>\n",
       "    </tr>\n",
       "    <tr>\n",
       "      <th>4</th>\n",
       "      <td>47.6062</td>\n",
       "      <td>-122.3321</td>\n",
       "      <td>0</td>\n",
       "    </tr>\n",
       "  </tbody>\n",
       "</table>\n",
       "</div>"
      ],
      "text/plain": [
       "   Latitude  Longitude  cluster\n",
       "0   40.7128   -74.0060        2\n",
       "1   34.0522  -118.2437        0\n",
       "2   41.8781   -87.6298        1\n",
       "3   37.7749  -122.4194        0\n",
       "4   47.6062  -122.3321        0"
      ]
     },
     "execution_count": 54,
     "metadata": {},
     "output_type": "execute_result"
    }
   ],
   "source": [
    "data"
   ]
  },
  {
   "cell_type": "code",
   "execution_count": null,
   "id": "909f6edd",
   "metadata": {},
   "outputs": [],
   "source": []
  },
  {
   "cell_type": "markdown",
   "id": "50f4480f",
   "metadata": {},
   "source": [
    "#### Evaluating clusters with silhouette score:\n",
    "\n",
    "The silhouette score is a metric that measures the cohesion within clusters and separation between clusters. The score ranges from -1 to 1, with higher values indicating better clustering."
   ]
  },
  {
   "cell_type": "code",
   "execution_count": 55,
   "id": "dd96f96a",
   "metadata": {},
   "outputs": [
    {
     "name": "stdout",
     "output_type": "stream",
     "text": [
      "Silhouette score: 0.4253291617696493\n"
     ]
    }
   ],
   "source": [
    "from sklearn.metrics import silhouette_score\n",
    "\n",
    "# Compute the silhouette score\n",
    "silhouette_avg = silhouette_score(data, cluster_labels)\n",
    "\n",
    "print(\"Silhouette score:\", silhouette_avg)\n"
   ]
  },
  {
   "cell_type": "markdown",
   "id": "b77eacb4",
   "metadata": {},
   "source": [
    "### Hierarchical clustering"
   ]
  },
  {
   "cell_type": "markdown",
   "id": "8a1f619c",
   "metadata": {},
   "source": [
    "#### Algorithm overview (Agglomerative and Divisive):\n",
    "\n",
    "Hierarchical clustering is an approach that builds a hierarchy of clusters either through a bottom-up (agglomerative) or top-down (divisive) process. The main difference between the two is their starting points:\n",
    "\n",
    "* **Agglomerative** : Starts with each data point as a single cluster and successively merges the closest pair of clusters until only one cluster remains.\n",
    "\n",
    "* **Divisive** : Starts with all data points in a single cluster and successively splits the cluster into smaller clusters until each data point forms its own cluster.\n",
    "\n",
    "#### Implementation using sklearn.cluster.AgglomerativeClustering:\n",
    "\n",
    "In scikit-learn, only agglomerative clustering is implemented:"
   ]
  },
  {
   "cell_type": "code",
   "execution_count": 56,
   "id": "a1d247de",
   "metadata": {},
   "outputs": [],
   "source": [
    "from sklearn.cluster import AgglomerativeClustering\n",
    "\n",
    "# Initialize the AgglomerativeClustering model with the desired number of clusters\n",
    "agglomerative = AgglomerativeClustering(n_clusters=3)\n",
    "\n",
    "# Fit the model to the data and get the cluster assignments for each data point\n",
    "cluster_labels = agglomerative.fit_predict(data)"
   ]
  },
  {
   "cell_type": "markdown",
   "id": "0cb95ede",
   "metadata": {},
   "source": [
    "#### Dendrogram visualization:\n",
    "\n",
    "Visualizing the hierarchy of clusters using a dendrogram can help you determine the optimal number of clusters. You can use the SciPy library to create a dendrogram:"
   ]
  },
  {
   "cell_type": "code",
   "execution_count": 57,
   "id": "ef6ed328",
   "metadata": {},
   "outputs": [
    {
     "data": {
      "image/png": "[encoded data removed]",
      "text/plain": [
       "<Figure size 1000x700 with 1 Axes>"
      ]
     },
     "metadata": {},
     "output_type": "display_data"
    }
   ],
   "source": [
    "import numpy as np\n",
    "from scipy.cluster.hierarchy import dendrogram, linkage\n",
    "import matplotlib.pyplot as plt\n",
    "\n",
    "# Compute the linkage matrix\n",
    "linked = linkage(data, method='ward')\n",
    "\n",
    "# Plot the dendrogram\n",
    "plt.figure(figsize=(10, 7))\n",
    "dendrogram(linked, labels=data.index, distance_sort='descending', truncate_mode='level', p=3)\n",
    "plt.xlabel('Data points')\n",
    "plt.ylabel('Euclidean distances')\n",
    "plt.title('Hierarchical Clustering Dendrogram')\n",
    "plt.show()\n"
   ]
  },
  {
   "cell_type": "markdown",
   "id": "6cbb6bd3",
   "metadata": {},
   "source": [
    "### DBSCAN (Density-Based Spatial Clustering of Applications with Noise)"
   ]
  },
  {
   "cell_type": "markdown",
   "id": "479917ee",
   "metadata": {},
   "source": [
    "#### Algorithm overview:\n",
    "\n",
    "DBSCAN is a density-based clustering algorithm that groups together points that are closely packed based on a density estimation. The algorithm defines a cluster as a dense region of data points separated by areas of lower point density. One of its main advantages is its ability to find arbitrarily shaped clusters and identify noise or outliers.\n",
    "\n",
    "\n",
    "The algorithm works as follows:\n",
    "\n",
    "* For each point, count the number of points within a given radius (epsilon).\n",
    "\n",
    "* If the number of points within the radius is greater than or equal to a specified minimum number of points (min_samples), the point is considered a core point.\n",
    "\n",
    "* Cluster formation starts by connecting core points that are close to each other (within the epsilon radius). All points that are reachable from a core point also belong to the cluster.\n",
    "\n",
    "* Points that are not part of any cluster are treated as noise.\n",
    "\n",
    "#### Implementation using sklearn.cluster.DBSCAN:"
   ]
  },
  {
   "cell_type": "code",
   "execution_count": 58,
   "id": "2cafef4d",
   "metadata": {},
   "outputs": [],
   "source": [
    "from sklearn.cluster import DBSCAN\n",
    "\n",
    "# Initialize the DBSCAN model with the desired parameters\n",
    "dbscan = DBSCAN(eps=0.5, min_samples=5)\n",
    "\n",
    "# Fit the model to the data and get the cluster assignments for each data point\n",
    "cluster_labels = dbscan.fit_predict(data)\n"
   ]
  },
  {
   "cell_type": "code",
   "execution_count": 59,
   "id": "b34595d3-260a-4706-b62a-d4b580f11f61",
   "metadata": {},
   "outputs": [
    {
     "data": {
      "text/plain": [
       "array([-1, -1, -1, -1, -1], dtype=int64)"
      ]
     },
     "execution_count": 59,
     "metadata": {},
     "output_type": "execute_result"
    }
   ],
   "source": [
    "cluster_labels"
   ]
  },
  {
   "cell_type": "markdown",
   "id": "6f9c9c08",
   "metadata": {},
   "source": [
    "#### Dealing with noise and outliers:\n",
    "\n",
    "DBSCAN is capable of identifying noise and outliers as part of the clustering process. Points that are not assigned to any cluster are considered noise. In the cluster_labels array, noise points are assigned a label of -1.\n",
    "To handle noise points or outliers, you can either remove them from the dataset or analyze them separately, depending on the application and goals of your analysis."
   ]
  },
  {
   "cell_type": "code",
   "execution_count": null,
   "id": "245bc98f",
   "metadata": {},
   "outputs": [],
   "source": [
    "import numpy as np\n",
    "\n",
    "# Identify noise points\n",
    "noise_points = data[cluster_labels == -1]\n",
    "\n",
    "# Remove noise points from the dataset (optional)\n",
    "data_without_noise = data[cluster_labels != -1]\n",
    "cluster_labels_without_noise = cluster_labels[cluster_labels != -1]\n"
   ]
  },
  {
   "cell_type": "markdown",
   "id": "dfadf4df",
   "metadata": {},
   "source": [
    "### demonstrate examples of K-means clustering and hierarchical clustering using data"
   ]
  },
  {
   "cell_type": "markdown",
   "id": "1388e83c",
   "metadata": {},
   "source": [
    "#### Use the famous Iris dataset to demonstrate examples of K-means clustering and hierarchical clustering.\n",
    "\n",
    "\n",
    "The Iris dataset contains 150 samples of iris flowers with 4 features: sepal length, sepal width, petal length, and petal width. There are three species of iris flowers in the dataset."
   ]
  },
  {
   "cell_type": "markdown",
   "id": "4a934b4e",
   "metadata": {},
   "source": [
    "####  Load and preprocess the Iris dataset:"
   ]
  },
  {
   "cell_type": "code",
   "execution_count": 64,
   "id": "1478825a",
   "metadata": {},
   "outputs": [],
   "source": [
    "import pandas as pd\n",
    "from sklearn.datasets import load_iris\n",
    "from sklearn.preprocessing import StandardScaler\n",
    "\n",
    "iris_data = load_iris()\n",
    "data = iris_data.data\n",
    "target = iris_data.target\n",
    "\n",
    "# Standardize the features\n",
    "scaler = StandardScaler()\n",
    "data = scaler.fit_transform(data)\n"
   ]
  },
  {
   "cell_type": "code",
   "execution_count": null,
   "id": "5c7fed2f",
   "metadata": {},
   "outputs": [],
   "source": []
  },
  {
   "cell_type": "markdown",
   "id": "9eab880f",
   "metadata": {},
   "source": [
    "#### K-means clustering example:"
   ]
  },
  {
   "cell_type": "code",
   "execution_count": 60,
   "id": "e07c45dd",
   "metadata": {
    "scrolled": true
   },
   "outputs": [
    {
     "name": "stdout",
     "output_type": "stream",
     "text": [
      "Silhouette score for K-means clustering: 0.4253291617696493\n"
     ]
    }
   ],
   "source": [
    "from sklearn.cluster import KMeans\n",
    "from sklearn.metrics import silhouette_score\n",
    "\n",
    "# Initialize the KMeans model with the desired number of clusters\n",
    "kmeans = KMeans(n_clusters=3, random_state=42)\n",
    "\n",
    "# Fit the model to the data\n",
    "kmeans.fit(data)\n",
    "\n",
    "# Get the cluster assignments for each data point\n",
    "cluster_labels = kmeans.labels_\n",
    "\n",
    "# Compute the silhouette score\n",
    "silhouette_avg = silhouette_score(data, cluster_labels)\n",
    "print(\"Silhouette score for K-means clustering:\", silhouette_avg)\n"
   ]
  },
  {
   "cell_type": "markdown",
   "id": "78d53e2e",
   "metadata": {},
   "source": [
    "The Silhouette score ranges from -1 to 1, with higher values indicating better clustering results. A score of 0 indicates that the object is on the boundary between two clusters and could be assigned to either. A negative score indicates that the object is more similar to neighboring clusters than its own, suggesting that the clustering algorithm did not perform well.\n",
    "\n",
    "\n",
    "In your case, the Silhouette score for the K-means clustering algorithm is 0.45994823920518635, which is a moderately good score. It indicates that the objects in the clusters are relatively well-separated and are more similar to their own cluster than to neighboring clusters."
   ]
  },
  {
   "cell_type": "markdown",
   "id": "1fc8fdcc",
   "metadata": {},
   "source": [
    "#### Hierarchical clustering (Agglomerative) example:"
   ]
  },
  {
   "cell_type": "code",
   "execution_count": 61,
   "id": "37b647d1",
   "metadata": {},
   "outputs": [
    {
     "name": "stdout",
     "output_type": "stream",
     "text": [
      "Silhouette score for Hierarchical clustering: 0.4253291617696493\n"
     ]
    }
   ],
   "source": [
    "from sklearn.cluster import AgglomerativeClustering\n",
    "\n",
    "# Initialize the AgglomerativeClustering model with the desired number of clusters\n",
    "agglomerative = AgglomerativeClustering(n_clusters=3)\n",
    "\n",
    "# Fit the model to the data and get the cluster assignments for each data point\n",
    "cluster_labels = agglomerative.fit_predict(data)\n",
    "\n",
    "# Compute the silhouette score\n",
    "silhouette_avg = silhouette_score(data, cluster_labels)\n",
    "print(\"Silhouette score for Hierarchical clustering:\", silhouette_avg)\n"
   ]
  },
  {
   "cell_type": "markdown",
   "id": "40475ab0",
   "metadata": {},
   "source": [
    "#### Dendrogram visualization for hierarchical clustering:"
   ]
  },
  {
   "cell_type": "code",
   "execution_count": null,
   "id": "4b484766-8c11-498c-baa0-9d1c11100629",
   "metadata": {},
   "outputs": [],
   "source": [
    "pip install scipy"
   ]
  },
  {
   "cell_type": "code",
   "execution_count": 66,
   "id": "e0f6e2a4",
   "metadata": {},
   "outputs": [
    {
     "data": {
      "image/png": "[encoded data removed]",
      "text/plain": [
       "<Figure size 1000x700 with 1 Axes>"
      ]
     },
     "metadata": {},
     "output_type": "display_data"
    }
   ],
   "source": [
    "import numpy as np\n",
    "from scipy.cluster.hierarchy import dendrogram, linkage\n",
    "import matplotlib.pyplot as plt\n",
    "\n",
    "# Compute the linkage matrix\n",
    "# function computes the linkage matrix using the Ward method as the criterion for merging clusters. The Ward method seeks to minimize the total within-cluster variance at each step.\n",
    "linked = linkage(data, method='ward')\n",
    "\n",
    "# Plot the dendrogram\n",
    "plt.figure(figsize=(10, 7))\n",
    "dendrogram(linked, labels=np.array(iris_data.target_names)[target], distance_sort='descending', truncate_mode='level', p=2)\n",
    "plt.xlabel('Data points')\n",
    "plt.ylabel('Euclidean distances')\n",
    "plt.title('Hierarchical Clustering Dendrogram')\n",
    "plt.show()\n"
   ]
  },
  {
   "cell_type": "markdown",
   "id": "4c95968d",
   "metadata": {},
   "source": [
    "By analyzing the dendrogram, you can determine an appropriate threshold for cutting the tree to obtain the desired number of clusters. To do this, you can draw a horizontal line at a specific height (Euclidean distance) on the y-axis, and the number of vertical lines it intersects corresponds to the number of clusters formed."
   ]
  },
  {
   "cell_type": "markdown",
   "id": "45355a57",
   "metadata": {},
   "source": [
    "### demonstrate DBSCAN with real data, let's use the UCI ML Wine recognition dataset"
   ]
  },
  {
   "cell_type": "markdown",
   "id": "540f88c6",
   "metadata": {},
   "source": [
    "To demonstrate DBSCAN with real data, let's use the UCI ML Wine recognition dataset, which contains chemical analyses of wines grown in the same region in Italy but derived from three different cultivars. The dataset has 13 features and 178 samples. We will apply DBSCAN to cluster the wines based on their chemical composition."
   ]
  },
  {
   "cell_type": "markdown",
   "id": "0e62e7f7",
   "metadata": {},
   "source": [
    "#### Load and preprocess the Wine dataset:"
   ]
  },
  {
   "cell_type": "code",
   "execution_count": 68,
   "id": "bde0ad2b",
   "metadata": {},
   "outputs": [],
   "source": [
    "import pandas as pd\n",
    "from sklearn.datasets import load_wine\n",
    "from sklearn.preprocessing import StandardScaler\n",
    "\n",
    "wine_data = load_wine()\n",
    "data = wine_data.data\n",
    "target = wine_data.target\n",
    "\n",
    "# Standardize the features\n",
    "scaler = StandardScaler()\n",
    "data = scaler.fit_transform(data)\n"
   ]
  },
  {
   "cell_type": "markdown",
   "id": "9b0b2dd9",
   "metadata": {},
   "source": [
    "#### DBSCAN clustering example:"
   ]
  },
  {
   "cell_type": "code",
   "execution_count": 69,
   "id": "713fdd69",
   "metadata": {},
   "outputs": [
    {
     "name": "stdout",
     "output_type": "stream",
     "text": [
      "Silhouette score for DBSCAN clustering: 0.34801201341316823\n"
     ]
    }
   ],
   "source": [
    "from sklearn.cluster import DBSCAN\n",
    "from sklearn.metrics import silhouette_score\n",
    "\n",
    "# Initialize the DBSCAN model with the desired parameters\n",
    "dbscan = DBSCAN(eps=2.2, min_samples=5)\n",
    "\n",
    "# Fit the model to the data and get the cluster assignments for each data point\n",
    "cluster_labels = dbscan.fit_predict(data)\n",
    "\n",
    "# Compute the silhouette score (excluding noise points)\n",
    "silhouette_avg = silhouette_score(data[cluster_labels != -1], cluster_labels[cluster_labels != -1])\n",
    "print(\"Silhouette score for DBSCAN clustering:\", silhouette_avg)\n"
   ]
  },
  {
   "cell_type": "markdown",
   "id": "09bb9ba4",
   "metadata": {},
   "source": [
    "#### Dealing with noise and outliers:"
   ]
  },
  {
   "cell_type": "code",
   "execution_count": null,
   "id": "931f76cf",
   "metadata": {},
   "outputs": [],
   "source": [
    "import numpy as np\n",
    "\n",
    "# Identify noise points\n",
    "noise_points = data[cluster_labels == -1]\n",
    "\n",
    "# Remove noise points from the dataset (optional)\n",
    "data_without_noise = data[cluster_labels != -1]\n",
    "cluster_labels_without_noise = cluster_labels[cluster_labels != -1]\n"
   ]
  },
  {
   "cell_type": "markdown",
   "id": "8a7de714",
   "metadata": {},
   "source": [
    "In this example, we used the Wine dataset to demonstrate the DBSCAN clustering algorithm. The silhouette score can help you evaluate the quality of the clustering. You can adjust the epsilon (eps) and minimum number of points (min_samples) parameters to obtain better clustering results. The noise points can be analyzed separately or removed from the dataset, depending on your requirements."
   ]
  },
  {
   "cell_type": "markdown",
   "id": "283de50f",
   "metadata": {},
   "source": [
    "## 4 Dimensionality Reduction Techniques\n",
    "\n",
    "### Principal Component Analysis (PCA):\n",
    "\n",
    "#### Algorithm overview:\n",
    "\n",
    "PCA is a linear dimensionality reduction technique that transforms the original features into a new set of orthogonal features (principal components) while preserving the maximum variance in the data. The first principal component explains the most variance, and each subsequent component explains the remaining variance in decreasing order.\n",
    "\n",
    "#### Implementation using sklearn.decomposition.PCA:"
   ]
  },
  {
   "cell_type": "code",
   "execution_count": 70,
   "id": "4a59ed7f",
   "metadata": {},
   "outputs": [],
   "source": [
    "from sklearn.decomposition import PCA\n",
    "\n",
    "# Initialize the PCA model with the desired number of components\n",
    "pca = PCA(n_components=2)\n",
    "\n",
    "# Fit the model to the data and transform the data\n",
    "reduced_data = pca.fit_transform(data)\n"
   ]
  },
  {
   "cell_type": "markdown",
   "id": "7033ab80",
   "metadata": {},
   "source": [
    "#### Visualizing reduced dimensions:"
   ]
  },
  {
   "cell_type": "code",
   "execution_count": 71,
   "id": "8dce7085",
   "metadata": {},
   "outputs": [
    {
     "data": {
      "image/png": "[encoded data removed]",
      "text/plain": [
       "<Figure size 640x480 with 1 Axes>"
      ]
     },
     "metadata": {},
     "output_type": "display_data"
    }
   ],
   "source": [
    "import matplotlib.pyplot as plt\n",
    "\n",
    "plt.scatter(reduced_data[:, 0], reduced_data[:, 1], c=target, cmap='viridis')\n",
    "plt.xlabel('First Principal Component')\n",
    "plt.ylabel('Second Principal Component')\n",
    "plt.title('PCA Dimensionality Reduction')\n",
    "plt.show()\n"
   ]
  },
  {
   "cell_type": "markdown",
   "id": "dc5c91a4",
   "metadata": {},
   "source": [
    "### t-distributed Stochastic Neighbor Embedding (t-SNE):\n",
    "\n",
    "#### Algorithm overview:\n",
    "\n",
    "t-SNE is a non-linear dimensionality reduction technique that is particularly suitable for visualizing high-dimensional data in a low-dimensional space (usually 2D or 3D). t-SNE preserves the local structure of the data by minimizing the divergence between two probability distributions: one representing pairwise similarities in the high-dimensional space and the other representing pairwise similarities in the low-dimensional space.\n",
    "\n",
    "#### Implementation using sklearn.manifold.TSNE:"
   ]
  },
  {
   "cell_type": "code",
   "execution_count": 72,
   "id": "3e8e65a2",
   "metadata": {},
   "outputs": [],
   "source": [
    "from sklearn.manifold import TSNE\n",
    "\n",
    "# Initialize the t-SNE model with the desired parameters\n",
    "tsne = TSNE(n_components=2, random_state=42)\n",
    "\n",
    "# Fit the model to the data and transform the data\n",
    "reduced_data = tsne.fit_transform(data)"
   ]
  },
  {
   "cell_type": "markdown",
   "id": "ea9d803e",
   "metadata": {},
   "source": [
    "#### Comparing PCA and t-SNE:\n",
    "\n",
    "* PCA is a linear technique that works well when the data has a linear structure, but it may not perform as well on non-linear data. \n",
    "\n",
    "* t-SNE is a non-linear technique that can capture complex structures in the data but may be more computationally expensive than PCA. In practice, it is often helpful to try both PCA and t-SNE to see which technique provides better insights into the data.\n",
    "\n",
    "#### Visualize the t-SNE reduced dimensions:"
   ]
  },
  {
   "cell_type": "code",
   "execution_count": 73,
   "id": "4bacc1ee",
   "metadata": {},
   "outputs": [
    {
     "data": {
      "image/png": "[encoded data removed]",
      "text/plain": [
       "<Figure size 640x480 with 1 Axes>"
      ]
     },
     "metadata": {},
     "output_type": "display_data"
    }
   ],
   "source": [
    "plt.scatter(reduced_data[:, 0], reduced_data[:, 1], c=target, cmap='viridis')\n",
    "plt.xlabel('t-SNE Component 1')\n",
    "plt.ylabel('t-SNE Component 2')\n",
    "plt.title('t-SNE Dimensionality Reduction')\n",
    "plt.show()"
   ]
  },
  {
   "cell_type": "markdown",
   "id": "7fe61716",
   "metadata": {},
   "source": [
    "### Use the UCI ML Wine recognition dataset again to demonstrate dimensionality reduction techniques, PCA and t-SNE"
   ]
  },
  {
   "cell_type": "markdown",
   "id": "6f691dca",
   "metadata": {},
   "source": [
    "Let's use the UCI ML Wine recognition dataset again to demonstrate dimensionality reduction techniques, PCA and t-SNE. The dataset contains chemical analyses of wines grown in the same region in Italy but derived from three different cultivars. The dataset has 13 features and 178 samples.\n",
    "\n",
    "#### Load and preprocess the Wine dataset:"
   ]
  },
  {
   "cell_type": "code",
   "execution_count": 74,
   "id": "2c2ec182",
   "metadata": {},
   "outputs": [],
   "source": [
    "import pandas as pd\n",
    "from sklearn.datasets import load_wine\n",
    "from sklearn.preprocessing import StandardScaler\n",
    "\n",
    "wine_data = load_wine()\n",
    "data = wine_data.data\n",
    "target = wine_data.target\n",
    "\n",
    "# Standardize the features\n",
    "scaler = StandardScaler()\n",
    "data = scaler.fit_transform(data)\n"
   ]
  },
  {
   "cell_type": "markdown",
   "id": "b3a048f6",
   "metadata": {},
   "source": [
    "#### PCA dimensionality reduction:"
   ]
  },
  {
   "cell_type": "code",
   "execution_count": 75,
   "id": "5f185411",
   "metadata": {},
   "outputs": [
    {
     "data": {
      "image/png": "[encoded data removed]",
      "text/plain": [
       "<Figure size 640x480 with 1 Axes>"
      ]
     },
     "metadata": {},
     "output_type": "display_data"
    }
   ],
   "source": [
    "from sklearn.decomposition import PCA\n",
    "import matplotlib.pyplot as plt\n",
    "\n",
    "# Initialize the PCA model with the desired number of components\n",
    "pca = PCA(n_components=2)\n",
    "\n",
    "# Fit the model to the data and transform the data\n",
    "reduced_data_pca = pca.fit_transform(data)\n",
    "\n",
    "# Visualize reduced dimensions\n",
    "plt.scatter(reduced_data_pca[:, 0], reduced_data_pca[:, 1], c=target, cmap='viridis')\n",
    "plt.xlabel('First Principal Component')\n",
    "plt.ylabel('Second Principal Component')\n",
    "plt.title('PCA Dimensionality Reduction')\n",
    "plt.show()\n"
   ]
  },
  {
   "cell_type": "markdown",
   "id": "7c875325",
   "metadata": {},
   "source": [
    "#### t-SNE dimensionality reduction:"
   ]
  },
  {
   "cell_type": "code",
   "execution_count": 76,
   "id": "6073dcbf",
   "metadata": {},
   "outputs": [
    {
     "data": {
      "image/png": "[encoded data removed]",
      "text/plain": [
       "<Figure size 640x480 with 1 Axes>"
      ]
     },
     "metadata": {},
     "output_type": "display_data"
    }
   ],
   "source": [
    "from sklearn.manifold import TSNE\n",
    "\n",
    "# Initialize the t-SNE model with the desired parameters\n",
    "tsne = TSNE(n_components=2, random_state=42)\n",
    "\n",
    "# Fit the model to the data and transform the data\n",
    "reduced_data_tsne = tsne.fit_transform(data)\n",
    "\n",
    "# Visualize reduced dimensions\n",
    "plt.scatter(reduced_data_tsne[:, 0], reduced_data_tsne[:, 1], c=target, cmap='viridis')\n",
    "plt.xlabel('t-SNE Component 1')\n",
    "plt.ylabel('t-SNE Component 2')\n",
    "plt.title('t-SNE Dimensionality Reduction')\n",
    "plt.show()\n"
   ]
  },
  {
   "cell_type": "markdown",
   "id": "e9dece86",
   "metadata": {},
   "source": [
    "*  In these examples, we used the Wine dataset to demonstrate PCA and t-SNE dimensionality reduction techniques.\n",
    "* By visualizing the reduced dimensions, you can gain insights into the underlying structure of the data and determine whether the techniques have successfully captured the relationships between the different wine samples."
   ]
  },
  {
   "cell_type": "markdown",
   "id": "63ab3ddc",
   "metadata": {},
   "source": [
    "## 5 Anomaly Detection"
   ]
  },
  {
   "cell_type": "markdown",
   "id": "ca010e82",
   "metadata": {},
   "source": [
    "* Anomaly detection, also known as outlier detection, is the process of identifying data points, events, or observations that deviate significantly from the norm or the expected behavior in a dataset.\n",
    "* These anomalies may represent errors, unusual activities, or rare events that warrant further investigation. \n",
    "* Anomaly detection techniques are widely used in various applications, such as fraud detection, network security, health monitoring, and quality control."
   ]
  },
  {
   "cell_type": "markdown",
   "id": "f8cd0803",
   "metadata": {},
   "source": [
    "### One-Class Support Vector Machine (SVM):\n",
    "\n",
    "#### Algorithm overview:\n",
    "\n",
    "One-Class SVM is an unsupervised algorithm that separates data points into two classes: normal and outliers. The algorithm learns a boundary around the normal data points and classifies any data point outside the boundary as an outlier.\n",
    "\n",
    "#### Implementation using sklearn.svm.OneClassSVM:\n",
    "\n"
   ]
  },
  {
   "cell_type": "code",
   "execution_count": 77,
   "id": "24a07849",
   "metadata": {},
   "outputs": [],
   "source": [
    "from sklearn.svm import OneClassSVM\n",
    "\n",
    "# Initialize the OneClassSVM model with the desired parameters\n",
    "one_class_svm = OneClassSVM(kernel='rbf', nu=0.05, gamma='auto')\n",
    "\n",
    "# Fit the model to the data\n",
    "one_class_svm.fit(data)\n",
    "\n",
    "# Make predictions: 1 for inliers (normal data), -1 for outliers\n",
    "svm_predictions = one_class_svm.predict(data)"
   ]
  },
  {
   "cell_type": "code",
   "execution_count": 78,
   "id": "4b74432b-9d4a-48ef-968b-aa4eb49b1f27",
   "metadata": {},
   "outputs": [
    {
     "data": {
      "text/plain": [
       "array([ 1,  1,  1, -1,  1,  1,  1,  1,  1,  1,  1,  1,  1,  1, -1,  1,  1,\n",
       "        1, -1,  1,  1,  1,  1,  1,  1,  1,  1,  1,  1,  1,  1,  1,  1, -1,\n",
       "        1,  1,  1,  1,  1, -1,  1,  1,  1,  1,  1,  1,  1,  1,  1,  1,  1,\n",
       "        1,  1,  1,  1,  1,  1,  1,  1,  1,  1,  1,  1,  1,  1,  1,  1, -1,\n",
       "        1, -1,  1,  1,  1, -1,  1,  1,  1,  1,  1,  1,  1,  1,  1,  1,  1,\n",
       "        1,  1,  1,  1, -1,  1,  1,  1,  1,  1,  1,  1,  1,  1,  1,  1,  1,\n",
       "        1,  1,  1,  1,  1,  1,  1,  1, -1,  1, -1,  1,  1,  1,  1,  1,  1,\n",
       "        1,  1, -1,  1,  1, -1,  1,  1,  1,  1,  1,  1,  1,  1,  1,  1,  1,\n",
       "        1, -1,  1,  1,  1,  1,  1,  1,  1,  1, -1,  1,  1,  1,  1, -1,  1,\n",
       "       -1,  1,  1,  1, -1, -1,  1,  1,  1,  1,  1,  1,  1,  1,  1,  1,  1,\n",
       "        1,  1,  1,  1,  1,  1,  1,  1], dtype=int64)"
      ]
     },
     "execution_count": 78,
     "metadata": {},
     "output_type": "execute_result"
    }
   ],
   "source": [
    "svm_predictions"
   ]
  },
  {
   "cell_type": "markdown",
   "id": "6dfd292e",
   "metadata": {},
   "source": [
    "### Isolation Forest:\n",
    "\n",
    "#### Algorithm overview:\n",
    "\n",
    "Isolation Forest is an unsupervised algorithm that detects anomalies by isolating observations in a random decision tree structure. The algorithm builds multiple trees, and the average path length to isolate an observation serves as a measure of its anomaly score. Shorter path lengths indicate potential anomalies.\n",
    "\n",
    "#### Implementation using sklearn.ensemble.IsolationForest:\n",
    "\n"
   ]
  },
  {
   "cell_type": "code",
   "execution_count": 79,
   "id": "b113c6ec",
   "metadata": {},
   "outputs": [],
   "source": [
    "from sklearn.ensemble import IsolationForest\n",
    "\n",
    "# Initialize the IsolationForest model with the desired parameters\n",
    "isolation_forest = IsolationForest(n_estimators=100, contamination=0.05, random_state=42)\n",
    "\n",
    "# Fit the model to the data\n",
    "isolation_forest.fit(data)\n",
    "\n",
    "# Make predictions: 1 for inliers (normal data), -1 for outliers\n",
    "if_predictions = isolation_forest.predict(data)\n"
   ]
  },
  {
   "cell_type": "code",
   "execution_count": 80,
   "id": "8f558ba9-d2f3-49b3-a3b8-725c712fea27",
   "metadata": {},
   "outputs": [
    {
     "data": {
      "text/plain": [
       "array([ 1,  1,  1,  1,  1,  1,  1,  1,  1,  1,  1,  1,  1,  1,  1,  1,  1,\n",
       "        1,  1,  1,  1,  1,  1,  1,  1,  1,  1,  1,  1,  1,  1,  1,  1,  1,\n",
       "        1,  1,  1,  1,  1,  1,  1,  1,  1,  1,  1,  1,  1,  1,  1,  1,  1,\n",
       "        1,  1,  1,  1,  1,  1,  1,  1, -1,  1,  1,  1,  1,  1,  1,  1,  1,\n",
       "        1, -1,  1,  1,  1, -1,  1,  1,  1,  1,  1,  1,  1,  1,  1,  1,  1,\n",
       "        1,  1,  1,  1,  1,  1,  1,  1,  1,  1, -1,  1,  1,  1,  1,  1,  1,\n",
       "        1,  1,  1,  1,  1,  1,  1,  1, -1,  1,  1,  1,  1,  1,  1,  1,  1,\n",
       "        1,  1, -1,  1,  1, -1,  1,  1,  1,  1,  1,  1,  1,  1,  1,  1,  1,\n",
       "        1,  1,  1,  1,  1,  1,  1,  1,  1,  1, -1,  1,  1,  1,  1,  1,  1,\n",
       "        1,  1,  1,  1,  1, -1,  1,  1,  1,  1,  1,  1,  1,  1,  1,  1,  1,\n",
       "        1,  1,  1,  1,  1,  1,  1,  1])"
      ]
     },
     "execution_count": 80,
     "metadata": {},
     "output_type": "execute_result"
    }
   ],
   "source": [
    "if_predictions"
   ]
  },
  {
   "cell_type": "markdown",
   "id": "101c1adc",
   "metadata": {},
   "source": [
    "### Demo using the UCI ML Wine recognition dataset:"
   ]
  },
  {
   "cell_type": "markdown",
   "id": "8c4a7708",
   "metadata": {},
   "source": [
    "#### Load and preprocess the Wine dataset:"
   ]
  },
  {
   "cell_type": "code",
   "execution_count": 81,
   "id": "b9e0af88",
   "metadata": {},
   "outputs": [],
   "source": [
    "import pandas as pd\n",
    "from sklearn.datasets import load_wine\n",
    "from sklearn.preprocessing import StandardScaler\n",
    "\n",
    "wine_data = load_wine()\n",
    "data = wine_data.data\n",
    "target = wine_data.target\n",
    "\n",
    "# Standardize the features\n",
    "scaler = StandardScaler()\n",
    "data = scaler.fit_transform(data)"
   ]
  },
  {
   "cell_type": "markdown",
   "id": "452dbce1",
   "metadata": {},
   "source": [
    "#### One-Class SVM anomaly detection:"
   ]
  },
  {
   "cell_type": "code",
   "execution_count": 82,
   "id": "418a0c20",
   "metadata": {},
   "outputs": [
    {
     "name": "stdout",
     "output_type": "stream",
     "text": [
      "One-Class SVM detected 19 anomalies.\n"
     ]
    }
   ],
   "source": [
    "from sklearn.svm import OneClassSVM\n",
    "\n",
    "# Initialize the OneClassSVM model with the desired parameters\n",
    "one_class_svm = OneClassSVM(kernel='rbf', nu=0.05, gamma='auto')\n",
    "\n",
    "# Fit the model to the data\n",
    "one_class_svm.fit(data)\n",
    "\n",
    "# Make predictions: 1 for inliers (normal data), -1 for outliers\n",
    "svm_predictions = one_class_svm.predict(data)\n",
    "\n",
    "# Count the number of anomalies detected\n",
    "svm_anomalies = sum(svm_predictions == -1)\n",
    "print(f\"One-Class SVM detected {svm_anomalies} anomalies.\")\n"
   ]
  },
  {
   "cell_type": "markdown",
   "id": "c3da0332",
   "metadata": {},
   "source": [
    "#### Isolation Forest anomaly detection:"
   ]
  },
  {
   "cell_type": "code",
   "execution_count": 83,
   "id": "8fd55c75",
   "metadata": {},
   "outputs": [
    {
     "name": "stdout",
     "output_type": "stream",
     "text": [
      "Isolation Forest detected 9 anomalies.\n"
     ]
    }
   ],
   "source": [
    "from sklearn.ensemble import IsolationForest\n",
    "\n",
    "# Initialize the IsolationForest model with the desired parameters\n",
    "isolation_forest = IsolationForest(n_estimators=100, contamination=0.05, random_state=42)\n",
    "\n",
    "# Fit the model to the data\n",
    "isolation_forest.fit(data)\n",
    "\n",
    "# Make predictions: 1 for inliers (normal data), -1 for outliers\n",
    "if_predictions = isolation_forest.predict(data)\n",
    "\n",
    "# Count the number of anomalies detected\n",
    "if_anomalies = sum(if_predictions == -1)\n",
    "print(f\"Isolation Forest detected {if_anomalies} anomalies.\")\n"
   ]
  },
  {
   "cell_type": "markdown",
   "id": "1a2e5638",
   "metadata": {},
   "source": [
    "In this example, \n",
    "\n",
    "* we used the Wine dataset to demonstrate two anomaly detection techniques: One-Class SVM and Isolation Forest. \n",
    "* By comparing the number of anomalies detected, you can gain insights into the performance of each algorithm for your specific dataset."
   ]
  },
  {
   "cell_type": "markdown",
   "id": "47ff6332",
   "metadata": {},
   "source": [
    "## 6 Association Rule Learning"
   ]
  },
  {
   "cell_type": "markdown",
   "id": "181e662a",
   "metadata": {},
   "source": [
    "### Apriori algorithm:\n",
    "\n",
    "#### Algorithm overview:\n",
    "\n",
    "The Apriori algorithm is a popular association rule learning technique used to discover frequent itemsets in a dataset and generate association rules. It operates in two main steps:\n",
    "\n",
    "(1) identify frequent itemsets by applying a minimum support threshold,\n",
    "\n",
    "(2) generate association rules from the frequent itemsets by applying a minimum confidence threshold. The algorithm employs a bottom-up approach, starting with single-item sets and expanding to larger itemsets while pruning the search space based on the support threshold.\n",
    "\n",
    "#### Implementation using external libraries (e.g., mlxtend):\n",
    "\n",
    "First, install the mlxtend library if you haven't already:"
   ]
  },
  {
   "cell_type": "code",
   "execution_count": null,
   "id": "5a39066a",
   "metadata": {},
   "outputs": [],
   "source": [
    "!pip install mlxtend"
   ]
  },
  {
   "cell_type": "markdown",
   "id": "6c858735",
   "metadata": {},
   "source": [
    "Next, let's use the Groceries dataset (available in the mlxtend library) as an example for the Apriori algorithm demonstration:\n",
    "\n",
    "\n",
    "#### Load the dataset and preprocess it:"
   ]
  },
  {
   "cell_type": "markdown",
   "id": "6def4c06",
   "metadata": {},
   "source": [
    "* The given dataset is a small, toy dataset that represents shopping baskets containing various items bought together. Each list within the dataset represents a single transaction or a shopping basket, and the items in the list represent the products purchased in that transaction.\n",
    "\n",
    "In this example, there are five transactions:\n",
    "\n",
    "    \n",
    "    \n",
    "* The first transaction contains Milk, Onion, Nutmeg, Kidney Beans, Eggs, and Yogurt.\n",
    "* The second transaction contains Dill, Onion, Nutmeg, Kidney Beans, Eggs, and Yogurt.\n",
    "* The third transaction contains Milk, Apple, Kidney Beans, and Eggs.\n",
    "* The fourth transaction contains Milk, Unicorn, Corn, Kidney Beans, and Yogurt.\n",
    "* The fifth transaction contains Corn, Onion, Onion, Kidney Beans, Ice cream, and Eggs.\n",
    "\n",
    "\n",
    "This type of dataset can be used to perform market basket analysis or to find association rules between the items using algorithms like Apriori or Eclat. The goal of this analysis is to discover interesting relationships or patterns between the items, which can then be used for targeted marketing, cross-selling, or product placement strategies."
   ]
  },
  {
   "cell_type": "code",
   "execution_count": null,
   "id": "1f5dc57e",
   "metadata": {},
   "outputs": [],
   "source": []
  },
  {
   "cell_type": "code",
   "execution_count": 84,
   "id": "987c3419",
   "metadata": {},
   "outputs": [],
   "source": [
    "import pandas as pd\n",
    "from mlxtend.preprocessing import TransactionEncoder\n",
    "\n",
    "\n",
    "# Load the Groceries dataset\n",
    "dataset = [['Milk', 'Onion', 'Nutmeg', 'Kidney Beans', 'Eggs', 'Yogurt'],\n",
    "           ['Dill', 'Onion', 'Nutmeg', 'Kidney Beans', 'Eggs', 'Yogurt'],\n",
    "           ['Milk', 'Apple', 'Kidney Beans', 'Eggs'],\n",
    "           ['Milk', 'Unicorn', 'Corn', 'Kidney Beans', 'Yogurt'],\n",
    "           ['Corn', 'Onion', 'Onion', 'Kidney Beans', 'Ice cream', 'Eggs']]\n",
    "\n",
    "# Preprocess the data\n",
    "te = TransactionEncoder()\n",
    "te_ary = te.fit(dataset).transform(dataset)\n",
    "df = pd.DataFrame(te_ary, columns=te.columns_)"
   ]
  },
  {
   "cell_type": "code",
   "execution_count": 85,
   "id": "68c12117",
   "metadata": {},
   "outputs": [
    {
     "data": {
      "text/html": [
       "<div>\n",
       "<style scoped>\n",
       "    .dataframe tbody tr th:only-of-type {\n",
       "        vertical-align: middle;\n",
       "    }\n",
       "\n",
       "    .dataframe tbody tr th {\n",
       "        vertical-align: top;\n",
       "    }\n",
       "\n",
       "    .dataframe thead th {\n",
       "        text-align: right;\n",
       "    }\n",
       "</style>\n",
       "<table border=\"1\" class=\"dataframe\">\n",
       "  <thead>\n",
       "    <tr style=\"text-align: right;\">\n",
       "      <th></th>\n",
       "      <th>Apple</th>\n",
       "      <th>Corn</th>\n",
       "      <th>Dill</th>\n",
       "      <th>Eggs</th>\n",
       "      <th>Ice cream</th>\n",
       "      <th>Kidney Beans</th>\n",
       "      <th>Milk</th>\n",
       "      <th>Nutmeg</th>\n",
       "      <th>Onion</th>\n",
       "      <th>Unicorn</th>\n",
       "      <th>Yogurt</th>\n",
       "    </tr>\n",
       "  </thead>\n",
       "  <tbody>\n",
       "    <tr>\n",
       "      <th>0</th>\n",
       "      <td>False</td>\n",
       "      <td>False</td>\n",
       "      <td>False</td>\n",
       "      <td>True</td>\n",
       "      <td>False</td>\n",
       "      <td>True</td>\n",
       "      <td>True</td>\n",
       "      <td>True</td>\n",
       "      <td>True</td>\n",
       "      <td>False</td>\n",
       "      <td>True</td>\n",
       "    </tr>\n",
       "    <tr>\n",
       "      <th>1</th>\n",
       "      <td>False</td>\n",
       "      <td>False</td>\n",
       "      <td>True</td>\n",
       "      <td>True</td>\n",
       "      <td>False</td>\n",
       "      <td>True</td>\n",
       "      <td>False</td>\n",
       "      <td>True</td>\n",
       "      <td>True</td>\n",
       "      <td>False</td>\n",
       "      <td>True</td>\n",
       "    </tr>\n",
       "    <tr>\n",
       "      <th>2</th>\n",
       "      <td>True</td>\n",
       "      <td>False</td>\n",
       "      <td>False</td>\n",
       "      <td>True</td>\n",
       "      <td>False</td>\n",
       "      <td>True</td>\n",
       "      <td>True</td>\n",
       "      <td>False</td>\n",
       "      <td>False</td>\n",
       "      <td>False</td>\n",
       "      <td>False</td>\n",
       "    </tr>\n",
       "    <tr>\n",
       "      <th>3</th>\n",
       "      <td>False</td>\n",
       "      <td>True</td>\n",
       "      <td>False</td>\n",
       "      <td>False</td>\n",
       "      <td>False</td>\n",
       "      <td>True</td>\n",
       "      <td>True</td>\n",
       "      <td>False</td>\n",
       "      <td>False</td>\n",
       "      <td>True</td>\n",
       "      <td>True</td>\n",
       "    </tr>\n",
       "    <tr>\n",
       "      <th>4</th>\n",
       "      <td>False</td>\n",
       "      <td>True</td>\n",
       "      <td>False</td>\n",
       "      <td>True</td>\n",
       "      <td>True</td>\n",
       "      <td>True</td>\n",
       "      <td>False</td>\n",
       "      <td>False</td>\n",
       "      <td>True</td>\n",
       "      <td>False</td>\n",
       "      <td>False</td>\n",
       "    </tr>\n",
       "  </tbody>\n",
       "</table>\n",
       "</div>"
      ],
      "text/plain": [
       "   Apple   Corn   Dill   Eggs  Ice cream  Kidney Beans   Milk  Nutmeg  Onion  \\\n",
       "0  False  False  False   True      False          True   True    True   True   \n",
       "1  False  False   True   True      False          True  False    True   True   \n",
       "2   True  False  False   True      False          True   True   False  False   \n",
       "3  False   True  False  False      False          True   True   False  False   \n",
       "4  False   True  False   True       True          True  False   False   True   \n",
       "\n",
       "   Unicorn  Yogurt  \n",
       "0    False    True  \n",
       "1    False    True  \n",
       "2    False   False  \n",
       "3     True    True  \n",
       "4    False   False  "
      ]
     },
     "execution_count": 85,
     "metadata": {},
     "output_type": "execute_result"
    }
   ],
   "source": [
    "df"
   ]
  },
  {
   "cell_type": "markdown",
   "id": "d10d746b",
   "metadata": {},
   "source": [
    "#### Apply the Apriori algorithm to identify frequent itemsets:"
   ]
  },
  {
   "cell_type": "code",
   "execution_count": 86,
   "id": "200da1f0",
   "metadata": {},
   "outputs": [],
   "source": [
    "from mlxtend.frequent_patterns import apriori\n",
    "\n",
    "# Apply the Apriori algorithm with a minimum support threshold\n",
    "min_support = 0.6\n",
    "frequent_itemsets = apriori(df, min_support=min_support, use_colnames=True)"
   ]
  },
  {
   "cell_type": "code",
   "execution_count": 87,
   "id": "b2eea711-4e0f-4bd8-bc91-e6a11ee96f3e",
   "metadata": {},
   "outputs": [
    {
     "data": {
      "text/html": [
       "<div>\n",
       "<style scoped>\n",
       "    .dataframe tbody tr th:only-of-type {\n",
       "        vertical-align: middle;\n",
       "    }\n",
       "\n",
       "    .dataframe tbody tr th {\n",
       "        vertical-align: top;\n",
       "    }\n",
       "\n",
       "    .dataframe thead th {\n",
       "        text-align: right;\n",
       "    }\n",
       "</style>\n",
       "<table border=\"1\" class=\"dataframe\">\n",
       "  <thead>\n",
       "    <tr style=\"text-align: right;\">\n",
       "      <th></th>\n",
       "      <th>support</th>\n",
       "      <th>itemsets</th>\n",
       "    </tr>\n",
       "  </thead>\n",
       "  <tbody>\n",
       "    <tr>\n",
       "      <th>0</th>\n",
       "      <td>0.8</td>\n",
       "      <td>(Eggs)</td>\n",
       "    </tr>\n",
       "    <tr>\n",
       "      <th>1</th>\n",
       "      <td>1.0</td>\n",
       "      <td>(Kidney Beans)</td>\n",
       "    </tr>\n",
       "    <tr>\n",
       "      <th>2</th>\n",
       "      <td>0.6</td>\n",
       "      <td>(Milk)</td>\n",
       "    </tr>\n",
       "    <tr>\n",
       "      <th>3</th>\n",
       "      <td>0.6</td>\n",
       "      <td>(Onion)</td>\n",
       "    </tr>\n",
       "    <tr>\n",
       "      <th>4</th>\n",
       "      <td>0.6</td>\n",
       "      <td>(Yogurt)</td>\n",
       "    </tr>\n",
       "    <tr>\n",
       "      <th>5</th>\n",
       "      <td>0.8</td>\n",
       "      <td>(Kidney Beans, Eggs)</td>\n",
       "    </tr>\n",
       "    <tr>\n",
       "      <th>6</th>\n",
       "      <td>0.6</td>\n",
       "      <td>(Onion, Eggs)</td>\n",
       "    </tr>\n",
       "    <tr>\n",
       "      <th>7</th>\n",
       "      <td>0.6</td>\n",
       "      <td>(Kidney Beans, Milk)</td>\n",
       "    </tr>\n",
       "    <tr>\n",
       "      <th>8</th>\n",
       "      <td>0.6</td>\n",
       "      <td>(Onion, Kidney Beans)</td>\n",
       "    </tr>\n",
       "    <tr>\n",
       "      <th>9</th>\n",
       "      <td>0.6</td>\n",
       "      <td>(Yogurt, Kidney Beans)</td>\n",
       "    </tr>\n",
       "    <tr>\n",
       "      <th>10</th>\n",
       "      <td>0.6</td>\n",
       "      <td>(Onion, Kidney Beans, Eggs)</td>\n",
       "    </tr>\n",
       "  </tbody>\n",
       "</table>\n",
       "</div>"
      ],
      "text/plain": [
       "    support                     itemsets\n",
       "0       0.8                       (Eggs)\n",
       "1       1.0               (Kidney Beans)\n",
       "2       0.6                       (Milk)\n",
       "3       0.6                      (Onion)\n",
       "4       0.6                     (Yogurt)\n",
       "5       0.8         (Kidney Beans, Eggs)\n",
       "6       0.6                (Onion, Eggs)\n",
       "7       0.6         (Kidney Beans, Milk)\n",
       "8       0.6        (Onion, Kidney Beans)\n",
       "9       0.6       (Yogurt, Kidney Beans)\n",
       "10      0.6  (Onion, Kidney Beans, Eggs)"
      ]
     },
     "execution_count": 87,
     "metadata": {},
     "output_type": "execute_result"
    }
   ],
   "source": [
    "frequent_itemsets"
   ]
  },
  {
   "cell_type": "markdown",
   "id": "7a92da1e",
   "metadata": {},
   "source": [
    "The minimum support threshold is a parameter used in the Apriori algorithm to control the minimum frequency of itemsets to be considered in the analysis. Itemsets with a frequency less than the minimum support threshold are discarded as they are not considered significant enough."
   ]
  },
  {
   "cell_type": "markdown",
   "id": "ba18c81d",
   "metadata": {},
   "source": [
    "#### Generate association rules from the frequent itemsets:"
   ]
  },
  {
   "cell_type": "code",
   "execution_count": 88,
   "id": "a3b4507b",
   "metadata": {},
   "outputs": [],
   "source": [
    "from mlxtend.frequent_patterns import association_rules\n",
    "\n",
    "# Generate association rules with a minimum confidence threshold\n",
    "min_confidence = 0.7\n",
    "rules = association_rules(frequent_itemsets, metric='confidence', min_threshold=min_confidence)"
   ]
  },
  {
   "cell_type": "code",
   "execution_count": 89,
   "id": "68300ae4",
   "metadata": {},
   "outputs": [
    {
     "data": {
      "text/html": [
       "<div>\n",
       "<style scoped>\n",
       "    .dataframe tbody tr th:only-of-type {\n",
       "        vertical-align: middle;\n",
       "    }\n",
       "\n",
       "    .dataframe tbody tr th {\n",
       "        vertical-align: top;\n",
       "    }\n",
       "\n",
       "    .dataframe thead th {\n",
       "        text-align: right;\n",
       "    }\n",
       "</style>\n",
       "<table border=\"1\" class=\"dataframe\">\n",
       "  <thead>\n",
       "    <tr style=\"text-align: right;\">\n",
       "      <th></th>\n",
       "      <th>antecedents</th>\n",
       "      <th>consequents</th>\n",
       "      <th>antecedent support</th>\n",
       "      <th>consequent support</th>\n",
       "      <th>support</th>\n",
       "      <th>confidence</th>\n",
       "      <th>lift</th>\n",
       "      <th>leverage</th>\n",
       "      <th>conviction</th>\n",
       "      <th>zhangs_metric</th>\n",
       "    </tr>\n",
       "  </thead>\n",
       "  <tbody>\n",
       "    <tr>\n",
       "      <th>0</th>\n",
       "      <td>(Kidney Beans)</td>\n",
       "      <td>(Eggs)</td>\n",
       "      <td>1.0</td>\n",
       "      <td>0.8</td>\n",
       "      <td>0.8</td>\n",
       "      <td>0.80</td>\n",
       "      <td>1.00</td>\n",
       "      <td>0.00</td>\n",
       "      <td>1.0</td>\n",
       "      <td>0.0</td>\n",
       "    </tr>\n",
       "    <tr>\n",
       "      <th>1</th>\n",
       "      <td>(Eggs)</td>\n",
       "      <td>(Kidney Beans)</td>\n",
       "      <td>0.8</td>\n",
       "      <td>1.0</td>\n",
       "      <td>0.8</td>\n",
       "      <td>1.00</td>\n",
       "      <td>1.00</td>\n",
       "      <td>0.00</td>\n",
       "      <td>inf</td>\n",
       "      <td>0.0</td>\n",
       "    </tr>\n",
       "    <tr>\n",
       "      <th>2</th>\n",
       "      <td>(Onion)</td>\n",
       "      <td>(Eggs)</td>\n",
       "      <td>0.6</td>\n",
       "      <td>0.8</td>\n",
       "      <td>0.6</td>\n",
       "      <td>1.00</td>\n",
       "      <td>1.25</td>\n",
       "      <td>0.12</td>\n",
       "      <td>inf</td>\n",
       "      <td>0.5</td>\n",
       "    </tr>\n",
       "    <tr>\n",
       "      <th>3</th>\n",
       "      <td>(Eggs)</td>\n",
       "      <td>(Onion)</td>\n",
       "      <td>0.8</td>\n",
       "      <td>0.6</td>\n",
       "      <td>0.6</td>\n",
       "      <td>0.75</td>\n",
       "      <td>1.25</td>\n",
       "      <td>0.12</td>\n",
       "      <td>1.6</td>\n",
       "      <td>1.0</td>\n",
       "    </tr>\n",
       "    <tr>\n",
       "      <th>4</th>\n",
       "      <td>(Milk)</td>\n",
       "      <td>(Kidney Beans)</td>\n",
       "      <td>0.6</td>\n",
       "      <td>1.0</td>\n",
       "      <td>0.6</td>\n",
       "      <td>1.00</td>\n",
       "      <td>1.00</td>\n",
       "      <td>0.00</td>\n",
       "      <td>inf</td>\n",
       "      <td>0.0</td>\n",
       "    </tr>\n",
       "    <tr>\n",
       "      <th>5</th>\n",
       "      <td>(Onion)</td>\n",
       "      <td>(Kidney Beans)</td>\n",
       "      <td>0.6</td>\n",
       "      <td>1.0</td>\n",
       "      <td>0.6</td>\n",
       "      <td>1.00</td>\n",
       "      <td>1.00</td>\n",
       "      <td>0.00</td>\n",
       "      <td>inf</td>\n",
       "      <td>0.0</td>\n",
       "    </tr>\n",
       "    <tr>\n",
       "      <th>6</th>\n",
       "      <td>(Yogurt)</td>\n",
       "      <td>(Kidney Beans)</td>\n",
       "      <td>0.6</td>\n",
       "      <td>1.0</td>\n",
       "      <td>0.6</td>\n",
       "      <td>1.00</td>\n",
       "      <td>1.00</td>\n",
       "      <td>0.00</td>\n",
       "      <td>inf</td>\n",
       "      <td>0.0</td>\n",
       "    </tr>\n",
       "    <tr>\n",
       "      <th>7</th>\n",
       "      <td>(Onion, Kidney Beans)</td>\n",
       "      <td>(Eggs)</td>\n",
       "      <td>0.6</td>\n",
       "      <td>0.8</td>\n",
       "      <td>0.6</td>\n",
       "      <td>1.00</td>\n",
       "      <td>1.25</td>\n",
       "      <td>0.12</td>\n",
       "      <td>inf</td>\n",
       "      <td>0.5</td>\n",
       "    </tr>\n",
       "    <tr>\n",
       "      <th>8</th>\n",
       "      <td>(Onion, Eggs)</td>\n",
       "      <td>(Kidney Beans)</td>\n",
       "      <td>0.6</td>\n",
       "      <td>1.0</td>\n",
       "      <td>0.6</td>\n",
       "      <td>1.00</td>\n",
       "      <td>1.00</td>\n",
       "      <td>0.00</td>\n",
       "      <td>inf</td>\n",
       "      <td>0.0</td>\n",
       "    </tr>\n",
       "    <tr>\n",
       "      <th>9</th>\n",
       "      <td>(Kidney Beans, Eggs)</td>\n",
       "      <td>(Onion)</td>\n",
       "      <td>0.8</td>\n",
       "      <td>0.6</td>\n",
       "      <td>0.6</td>\n",
       "      <td>0.75</td>\n",
       "      <td>1.25</td>\n",
       "      <td>0.12</td>\n",
       "      <td>1.6</td>\n",
       "      <td>1.0</td>\n",
       "    </tr>\n",
       "    <tr>\n",
       "      <th>10</th>\n",
       "      <td>(Onion)</td>\n",
       "      <td>(Kidney Beans, Eggs)</td>\n",
       "      <td>0.6</td>\n",
       "      <td>0.8</td>\n",
       "      <td>0.6</td>\n",
       "      <td>1.00</td>\n",
       "      <td>1.25</td>\n",
       "      <td>0.12</td>\n",
       "      <td>inf</td>\n",
       "      <td>0.5</td>\n",
       "    </tr>\n",
       "    <tr>\n",
       "      <th>11</th>\n",
       "      <td>(Eggs)</td>\n",
       "      <td>(Onion, Kidney Beans)</td>\n",
       "      <td>0.8</td>\n",
       "      <td>0.6</td>\n",
       "      <td>0.6</td>\n",
       "      <td>0.75</td>\n",
       "      <td>1.25</td>\n",
       "      <td>0.12</td>\n",
       "      <td>1.6</td>\n",
       "      <td>1.0</td>\n",
       "    </tr>\n",
       "  </tbody>\n",
       "</table>\n",
       "</div>"
      ],
      "text/plain": [
       "              antecedents            consequents  antecedent support  \\\n",
       "0          (Kidney Beans)                 (Eggs)                 1.0   \n",
       "1                  (Eggs)         (Kidney Beans)                 0.8   \n",
       "2                 (Onion)                 (Eggs)                 0.6   \n",
       "3                  (Eggs)                (Onion)                 0.8   \n",
       "4                  (Milk)         (Kidney Beans)                 0.6   \n",
       "5                 (Onion)         (Kidney Beans)                 0.6   \n",
       "6                (Yogurt)         (Kidney Beans)                 0.6   \n",
       "7   (Onion, Kidney Beans)                 (Eggs)                 0.6   \n",
       "8           (Onion, Eggs)         (Kidney Beans)                 0.6   \n",
       "9    (Kidney Beans, Eggs)                (Onion)                 0.8   \n",
       "10                (Onion)   (Kidney Beans, Eggs)                 0.6   \n",
       "11                 (Eggs)  (Onion, Kidney Beans)                 0.8   \n",
       "\n",
       "    consequent support  support  confidence  lift  leverage  conviction  \\\n",
       "0                  0.8      0.8        0.80  1.00      0.00         1.0   \n",
       "1                  1.0      0.8        1.00  1.00      0.00         inf   \n",
       "2                  0.8      0.6        1.00  1.25      0.12         inf   \n",
       "3                  0.6      0.6        0.75  1.25      0.12         1.6   \n",
       "4                  1.0      0.6        1.00  1.00      0.00         inf   \n",
       "5                  1.0      0.6        1.00  1.00      0.00         inf   \n",
       "6                  1.0      0.6        1.00  1.00      0.00         inf   \n",
       "7                  0.8      0.6        1.00  1.25      0.12         inf   \n",
       "8                  1.0      0.6        1.00  1.00      0.00         inf   \n",
       "9                  0.6      0.6        0.75  1.25      0.12         1.6   \n",
       "10                 0.8      0.6        1.00  1.25      0.12         inf   \n",
       "11                 0.6      0.6        0.75  1.25      0.12         1.6   \n",
       "\n",
       "    zhangs_metric  \n",
       "0             0.0  \n",
       "1             0.0  \n",
       "2             0.5  \n",
       "3             1.0  \n",
       "4             0.0  \n",
       "5             0.0  \n",
       "6             0.0  \n",
       "7             0.5  \n",
       "8             0.0  \n",
       "9             1.0  \n",
       "10            0.5  \n",
       "11            1.0  "
      ]
     },
     "execution_count": 89,
     "metadata": {},
     "output_type": "execute_result"
    }
   ],
   "source": [
    "rules"
   ]
  },
  {
   "cell_type": "markdown",
   "id": "dc2ce6a0",
   "metadata": {},
   "source": [
    "In this example, \n",
    "* we used the Groceries dataset to demonstrate the Apriori algorithm for association rule learning. \n",
    "* The mlxtend library was used to preprocess the dataset, identify frequent itemsets, and generate association rules.\n",
    "* The minimum support and confidence thresholds can be adjusted to control the quality and number of rules generated."
   ]
  },
  {
   "cell_type": "markdown",
   "id": "03b7c926",
   "metadata": {},
   "source": [
    "# 7 Real-world Applications and Case Studies"
   ]
  },
  {
   "cell_type": "markdown",
   "id": "a4a73cc4",
   "metadata": {},
   "source": [
    "## 1 Customer segmentation"
   ]
  },
  {
   "cell_type": "markdown",
   "id": "5fab1050",
   "metadata": {},
   "source": [
    "Customer segmentation is the process of dividing customers into groups based on their shared characteristics, such as demographics, behavior, or preferences. This can help businesses better understand their customers, tailor marketing campaigns, and improve customer satisfaction. Clustering algorithms, such as K-means, are widely used for customer segmentation.\n",
    "\n",
    "\n",
    "\n",
    "Let's use the \"Mall Customer Segmentation Data\" from Kaggle as an example to demonstrate customer segmentation with the K-means algorithm. You can download the dataset from this link: https://www.kaggle.com/vjchoudhary7/customer-segmentation-tutorial-in-python"
   ]
  },
  {
   "cell_type": "markdown",
   "id": "1058ccbc",
   "metadata": {},
   "source": [
    "### Load the dataset and preprocess it:"
   ]
  },
  {
   "cell_type": "code",
   "execution_count": 91,
   "id": "25c0ef9f",
   "metadata": {},
   "outputs": [],
   "source": [
    "import pandas as pd\n",
    "from sklearn.preprocessing import StandardScaler\n",
    "\n",
    "# Load the dataset\n",
    "data = pd.read_csv(\"data/Mall_Customers.csv\")\n",
    "data = data.drop([\"CustomerID\", \"Gender\"], axis=1)  # Drop unnecessary columns\n",
    "data.head()\n",
    "\n",
    "# Standardize the features\n",
    "scaler = StandardScaler()\n",
    "data = scaler.fit_transform(data)\n"
   ]
  },
  {
   "cell_type": "markdown",
   "id": "bd40f613",
   "metadata": {},
   "source": [
    "### Apply the K-means algorithm for customer segmentation:"
   ]
  },
  {
   "cell_type": "code",
   "execution_count": 92,
   "id": "b5a29e73",
   "metadata": {},
   "outputs": [
    {
     "data": {
      "text/plain": [
       "array([2, 2, 3, 2, 2, 2, 3, 2, 0, 2, 0, 2, 0, 2, 3, 2, 3, 2, 0, 2, 3, 2,\n",
       "       0, 2, 0, 2, 0, 2, 0, 2, 0, 2, 0, 2, 0, 2, 0, 2, 3, 2, 0, 2, 0, 2,\n",
       "       0, 2, 0, 3, 3, 3, 0, 2, 3, 0, 0, 0, 0, 0, 3, 0, 0, 3, 0, 0, 0, 3,\n",
       "       0, 0, 3, 3, 0, 0, 0, 0, 0, 3, 0, 3, 3, 0, 0, 3, 0, 0, 3, 0, 0, 3,\n",
       "       3, 0, 0, 3, 0, 3, 3, 3, 0, 3, 0, 3, 3, 0, 0, 3, 0, 3, 0, 0, 0, 0,\n",
       "       0, 3, 3, 3, 3, 3, 0, 0, 0, 0, 3, 3, 1, 1, 3, 1, 4, 1, 4, 1, 4, 1,\n",
       "       3, 1, 3, 1, 4, 1, 3, 1, 4, 1, 3, 1, 3, 1, 4, 1, 4, 1, 4, 1, 4, 1,\n",
       "       4, 1, 4, 1, 4, 1, 4, 1, 3, 1, 4, 1, 4, 1, 4, 1, 4, 1, 4, 1, 4, 1,\n",
       "       4, 1, 4, 1, 4, 1, 4, 1, 4, 1, 4, 1, 4, 1, 4, 1, 4, 1, 4, 1, 4, 1,\n",
       "       4, 1])"
      ]
     },
     "execution_count": 92,
     "metadata": {},
     "output_type": "execute_result"
    }
   ],
   "source": [
    "from sklearn.cluster import KMeans\n",
    "\n",
    "# Initialize the KMeans model with the desired number of clusters\n",
    "k = 5\n",
    "kmeans = KMeans(n_clusters=k, random_state=42)\n",
    "\n",
    "# Fit the model to the data and make predictions\n",
    "clusters = kmeans.fit_predict(data)\n",
    "clusters"
   ]
  },
  {
   "cell_type": "markdown",
   "id": "a89cab12",
   "metadata": {},
   "source": [
    "### Visualize the customer segments:"
   ]
  },
  {
   "cell_type": "code",
   "execution_count": 93,
   "id": "8b7b8b6e",
   "metadata": {},
   "outputs": [
    {
     "data": {
      "image/png": "[encoded data removed]",
      "text/plain": [
       "<Figure size 640x480 with 1 Axes>"
      ]
     },
     "metadata": {},
     "output_type": "display_data"
    }
   ],
   "source": [
    "import matplotlib.pyplot as plt\n",
    "\n",
    "# Visualize the clusters using the annual income and spending score features\n",
    "plt.scatter(data[clusters == 0, 1], data[clusters == 0, 2], s=100, c='red', label='Cluster 1')\n",
    "plt.scatter(data[clusters == 1, 1], data[clusters == 1, 2], s=100, c='blue', label='Cluster 2')\n",
    "plt.scatter(data[clusters == 2, 1], data[clusters == 2, 2], s=100, c='green', label='Cluster 3')\n",
    "plt.scatter(data[clusters == 3, 1], data[clusters == 3, 2], s=100, c='cyan', label='Cluster 4')\n",
    "plt.scatter(data[clusters == 4, 1], data[clusters == 4, 2], s=100, c='magenta', label='Cluster 5')\n",
    "\n",
    "# Plot the centroids of the clusters\n",
    "plt.scatter(kmeans.cluster_centers_[:, 1], kmeans.cluster_centers_[:, 2], s=300, c='yellow', label='Centroids')\n",
    "plt.xlabel('Annual Income (k$)')\n",
    "plt.ylabel('Spending Score (1-100)')\n",
    "plt.legend()\n",
    "plt.show()\n"
   ]
  },
  {
   "cell_type": "markdown",
   "id": "4e41f9f7",
   "metadata": {},
   "source": [
    "in this example, \n",
    "\n",
    "* we used the \"Mall Customer Segmentation Data\" to demonstrate customer segmentation with the K-means algorithm. \n",
    "* The dataset contains information about customers, such as their age, annual income, and spending score. \n",
    "* After loading and preprocessing the data, we applied the K-means algorithm to group the customers into five clusters. * * * * * Finally, we visualized the customer segments using the annual income and spending score features. By analyzing these * * * \n",
    "\n",
    "clusters, businesses can better understand their customers and design targeted marketing strategies."
   ]
  },
  {
   "cell_type": "markdown",
   "id": "d4b31f46",
   "metadata": {},
   "source": [
    "## 2 Recommender systems "
   ]
  },
  {
   "cell_type": "markdown",
   "id": "a3864476",
   "metadata": {},
   "source": [
    "Recommender systems are widely used in various industries to provide personalized recommendations to users, such as movies, music, products, or news articles. Collaborative filtering is a popular method used in recommender systems, which can be divided into two approaches: user-based and item-based collaborative filtering.\n",
    "\n",
    "\n",
    "    \n",
    "In this example, we will demonstrate an item-based collaborative filtering recommender system using the MovieLens 100k dataset, which can be downloaded from this link: https://grouplens.org/datasets/movielens/100k/\n",
    "\n",
    "\n",
    "### Load the dataset and preprocess it:"
   ]
  },
  {
   "cell_type": "code",
   "execution_count": 94,
   "id": "e9a8ce3c",
   "metadata": {},
   "outputs": [],
   "source": [
    "import pandas as pd\n",
    "\n",
    "# Load the user ratings dataset\n",
    "column_names = [\"user_id\", \"item_id\", \"rating\", \"timestamp\"]\n",
    "\n",
    "ratings = pd.read_csv(\"./data/ml-100k/u.data\", sep=\"\\t\", names=column_names)"
   ]
  },
  {
   "cell_type": "markdown",
   "id": "881f05e3",
   "metadata": {},
   "source": [
    "In recommendation systems, we often represent user-item interactions using a ratings dataframe, which contains a list of users, items, and corresponding ratings. However, to perform many common operations such as computing recommendations, it is often helpful to represent this data in a different format called a user-item matrix.\n",
    "\n",
    "\n",
    "\n",
    "A user-item matrix is a matrix where the rows represent the users, the columns represent the items, and the entries represent the ratings. Each cell in the matrix represents a specific user's rating for a specific item.\n",
    "\n",
    "\n",
    "To create a user-item matrix, we first need to pivot the ratings dataframe. This involves rearranging the dataframe so that the rows represent the users, the columns represent the items, and the values in the cells represent the ratings. This can be done using a function like pandas.pivot_table() in Python.\n",
    "\n",
    "\n",
    "\n",
    "For example, suppose we have a ratings dataframe with the following columns: user_id, item_id, and rating. We can pivot this dataframe into a user-item matrix using the following code:"
   ]
  },
  {
   "cell_type": "code",
   "execution_count": 97,
   "id": "3c132f3b-0faa-4cf8-a3a7-b68c6d8ef886",
   "metadata": {},
   "outputs": [
    {
     "data": {
      "text/html": [
       "<div>\n",
       "<style scoped>\n",
       "    .dataframe tbody tr th:only-of-type {\n",
       "        vertical-align: middle;\n",
       "    }\n",
       "\n",
       "    .dataframe tbody tr th {\n",
       "        vertical-align: top;\n",
       "    }\n",
       "\n",
       "    .dataframe thead th {\n",
       "        text-align: right;\n",
       "    }\n",
       "</style>\n",
       "<table border=\"1\" class=\"dataframe\">\n",
       "  <thead>\n",
       "    <tr style=\"text-align: right;\">\n",
       "      <th></th>\n",
       "      <th>user_id</th>\n",
       "      <th>item_id</th>\n",
       "      <th>rating</th>\n",
       "      <th>timestamp</th>\n",
       "    </tr>\n",
       "  </thead>\n",
       "  <tbody>\n",
       "    <tr>\n",
       "      <th>0</th>\n",
       "      <td>196</td>\n",
       "      <td>242</td>\n",
       "      <td>3</td>\n",
       "      <td>881250949</td>\n",
       "    </tr>\n",
       "    <tr>\n",
       "      <th>1</th>\n",
       "      <td>186</td>\n",
       "      <td>302</td>\n",
       "      <td>3</td>\n",
       "      <td>891717742</td>\n",
       "    </tr>\n",
       "    <tr>\n",
       "      <th>2</th>\n",
       "      <td>22</td>\n",
       "      <td>377</td>\n",
       "      <td>1</td>\n",
       "      <td>878887116</td>\n",
       "    </tr>\n",
       "    <tr>\n",
       "      <th>3</th>\n",
       "      <td>244</td>\n",
       "      <td>51</td>\n",
       "      <td>2</td>\n",
       "      <td>880606923</td>\n",
       "    </tr>\n",
       "    <tr>\n",
       "      <th>4</th>\n",
       "      <td>166</td>\n",
       "      <td>346</td>\n",
       "      <td>1</td>\n",
       "      <td>886397596</td>\n",
       "    </tr>\n",
       "    <tr>\n",
       "      <th>...</th>\n",
       "      <td>...</td>\n",
       "      <td>...</td>\n",
       "      <td>...</td>\n",
       "      <td>...</td>\n",
       "    </tr>\n",
       "    <tr>\n",
       "      <th>99995</th>\n",
       "      <td>880</td>\n",
       "      <td>476</td>\n",
       "      <td>3</td>\n",
       "      <td>880175444</td>\n",
       "    </tr>\n",
       "    <tr>\n",
       "      <th>99996</th>\n",
       "      <td>716</td>\n",
       "      <td>204</td>\n",
       "      <td>5</td>\n",
       "      <td>879795543</td>\n",
       "    </tr>\n",
       "    <tr>\n",
       "      <th>99997</th>\n",
       "      <td>276</td>\n",
       "      <td>1090</td>\n",
       "      <td>1</td>\n",
       "      <td>874795795</td>\n",
       "    </tr>\n",
       "    <tr>\n",
       "      <th>99998</th>\n",
       "      <td>13</td>\n",
       "      <td>225</td>\n",
       "      <td>2</td>\n",
       "      <td>882399156</td>\n",
       "    </tr>\n",
       "    <tr>\n",
       "      <th>99999</th>\n",
       "      <td>12</td>\n",
       "      <td>203</td>\n",
       "      <td>3</td>\n",
       "      <td>879959583</td>\n",
       "    </tr>\n",
       "  </tbody>\n",
       "</table>\n",
       "<p>100000 rows × 4 columns</p>\n",
       "</div>"
      ],
      "text/plain": [
       "       user_id  item_id  rating  timestamp\n",
       "0          196      242       3  881250949\n",
       "1          186      302       3  891717742\n",
       "2           22      377       1  878887116\n",
       "3          244       51       2  880606923\n",
       "4          166      346       1  886397596\n",
       "...        ...      ...     ...        ...\n",
       "99995      880      476       3  880175444\n",
       "99996      716      204       5  879795543\n",
       "99997      276     1090       1  874795795\n",
       "99998       13      225       2  882399156\n",
       "99999       12      203       3  879959583\n",
       "\n",
       "[100000 rows x 4 columns]"
      ]
     },
     "execution_count": 97,
     "metadata": {},
     "output_type": "execute_result"
    }
   ],
   "source": [
    "ratings"
   ]
  },
  {
   "cell_type": "code",
   "execution_count": 95,
   "id": "14694078",
   "metadata": {},
   "outputs": [],
   "source": [
    "# Pivot the ratings dataframe to create a user-item matrix\n",
    "user_item_matrix = ratings.pivot_table(index=\"user_id\", columns=\"item_id\", values=\"rating\")"
   ]
  },
  {
   "cell_type": "code",
   "execution_count": 96,
   "id": "07265910",
   "metadata": {},
   "outputs": [
    {
     "data": {
      "text/html": [
       "<div>\n",
       "<style scoped>\n",
       "    .dataframe tbody tr th:only-of-type {\n",
       "        vertical-align: middle;\n",
       "    }\n",
       "\n",
       "    .dataframe tbody tr th {\n",
       "        vertical-align: top;\n",
       "    }\n",
       "\n",
       "    .dataframe thead th {\n",
       "        text-align: right;\n",
       "    }\n",
       "</style>\n",
       "<table border=\"1\" class=\"dataframe\">\n",
       "  <thead>\n",
       "    <tr style=\"text-align: right;\">\n",
       "      <th>item_id</th>\n",
       "      <th>1</th>\n",
       "      <th>2</th>\n",
       "      <th>3</th>\n",
       "      <th>4</th>\n",
       "      <th>5</th>\n",
       "      <th>6</th>\n",
       "      <th>7</th>\n",
       "      <th>8</th>\n",
       "      <th>9</th>\n",
       "      <th>10</th>\n",
       "      <th>...</th>\n",
       "      <th>1673</th>\n",
       "      <th>1674</th>\n",
       "      <th>1675</th>\n",
       "      <th>1676</th>\n",
       "      <th>1677</th>\n",
       "      <th>1678</th>\n",
       "      <th>1679</th>\n",
       "      <th>1680</th>\n",
       "      <th>1681</th>\n",
       "      <th>1682</th>\n",
       "    </tr>\n",
       "    <tr>\n",
       "      <th>user_id</th>\n",
       "      <th></th>\n",
       "      <th></th>\n",
       "      <th></th>\n",
       "      <th></th>\n",
       "      <th></th>\n",
       "      <th></th>\n",
       "      <th></th>\n",
       "      <th></th>\n",
       "      <th></th>\n",
       "      <th></th>\n",
       "      <th></th>\n",
       "      <th></th>\n",
       "      <th></th>\n",
       "      <th></th>\n",
       "      <th></th>\n",
       "      <th></th>\n",
       "      <th></th>\n",
       "      <th></th>\n",
       "      <th></th>\n",
       "      <th></th>\n",
       "      <th></th>\n",
       "    </tr>\n",
       "  </thead>\n",
       "  <tbody>\n",
       "    <tr>\n",
       "      <th>1</th>\n",
       "      <td>5.0</td>\n",
       "      <td>3.0</td>\n",
       "      <td>4.0</td>\n",
       "      <td>3.0</td>\n",
       "      <td>3.0</td>\n",
       "      <td>5.0</td>\n",
       "      <td>4.0</td>\n",
       "      <td>1.0</td>\n",
       "      <td>5.0</td>\n",
       "      <td>3.0</td>\n",
       "      <td>...</td>\n",
       "      <td>NaN</td>\n",
       "      <td>NaN</td>\n",
       "      <td>NaN</td>\n",
       "      <td>NaN</td>\n",
       "      <td>NaN</td>\n",
       "      <td>NaN</td>\n",
       "      <td>NaN</td>\n",
       "      <td>NaN</td>\n",
       "      <td>NaN</td>\n",
       "      <td>NaN</td>\n",
       "    </tr>\n",
       "    <tr>\n",
       "      <th>2</th>\n",
       "      <td>4.0</td>\n",
       "      <td>NaN</td>\n",
       "      <td>NaN</td>\n",
       "      <td>NaN</td>\n",
       "      <td>NaN</td>\n",
       "      <td>NaN</td>\n",
       "      <td>NaN</td>\n",
       "      <td>NaN</td>\n",
       "      <td>NaN</td>\n",
       "      <td>2.0</td>\n",
       "      <td>...</td>\n",
       "      <td>NaN</td>\n",
       "      <td>NaN</td>\n",
       "      <td>NaN</td>\n",
       "      <td>NaN</td>\n",
       "      <td>NaN</td>\n",
       "      <td>NaN</td>\n",
       "      <td>NaN</td>\n",
       "      <td>NaN</td>\n",
       "      <td>NaN</td>\n",
       "      <td>NaN</td>\n",
       "    </tr>\n",
       "    <tr>\n",
       "      <th>3</th>\n",
       "      <td>NaN</td>\n",
       "      <td>NaN</td>\n",
       "      <td>NaN</td>\n",
       "      <td>NaN</td>\n",
       "      <td>NaN</td>\n",
       "      <td>NaN</td>\n",
       "      <td>NaN</td>\n",
       "      <td>NaN</td>\n",
       "      <td>NaN</td>\n",
       "      <td>NaN</td>\n",
       "      <td>...</td>\n",
       "      <td>NaN</td>\n",
       "      <td>NaN</td>\n",
       "      <td>NaN</td>\n",
       "      <td>NaN</td>\n",
       "      <td>NaN</td>\n",
       "      <td>NaN</td>\n",
       "      <td>NaN</td>\n",
       "      <td>NaN</td>\n",
       "      <td>NaN</td>\n",
       "      <td>NaN</td>\n",
       "    </tr>\n",
       "    <tr>\n",
       "      <th>4</th>\n",
       "      <td>NaN</td>\n",
       "      <td>NaN</td>\n",
       "      <td>NaN</td>\n",
       "      <td>NaN</td>\n",
       "      <td>NaN</td>\n",
       "      <td>NaN</td>\n",
       "      <td>NaN</td>\n",
       "      <td>NaN</td>\n",
       "      <td>NaN</td>\n",
       "      <td>NaN</td>\n",
       "      <td>...</td>\n",
       "      <td>NaN</td>\n",
       "      <td>NaN</td>\n",
       "      <td>NaN</td>\n",
       "      <td>NaN</td>\n",
       "      <td>NaN</td>\n",
       "      <td>NaN</td>\n",
       "      <td>NaN</td>\n",
       "      <td>NaN</td>\n",
       "      <td>NaN</td>\n",
       "      <td>NaN</td>\n",
       "    </tr>\n",
       "    <tr>\n",
       "      <th>5</th>\n",
       "      <td>4.0</td>\n",
       "      <td>3.0</td>\n",
       "      <td>NaN</td>\n",
       "      <td>NaN</td>\n",
       "      <td>NaN</td>\n",
       "      <td>NaN</td>\n",
       "      <td>NaN</td>\n",
       "      <td>NaN</td>\n",
       "      <td>NaN</td>\n",
       "      <td>NaN</td>\n",
       "      <td>...</td>\n",
       "      <td>NaN</td>\n",
       "      <td>NaN</td>\n",
       "      <td>NaN</td>\n",
       "      <td>NaN</td>\n",
       "      <td>NaN</td>\n",
       "      <td>NaN</td>\n",
       "      <td>NaN</td>\n",
       "      <td>NaN</td>\n",
       "      <td>NaN</td>\n",
       "      <td>NaN</td>\n",
       "    </tr>\n",
       "    <tr>\n",
       "      <th>...</th>\n",
       "      <td>...</td>\n",
       "      <td>...</td>\n",
       "      <td>...</td>\n",
       "      <td>...</td>\n",
       "      <td>...</td>\n",
       "      <td>...</td>\n",
       "      <td>...</td>\n",
       "      <td>...</td>\n",
       "      <td>...</td>\n",
       "      <td>...</td>\n",
       "      <td>...</td>\n",
       "      <td>...</td>\n",
       "      <td>...</td>\n",
       "      <td>...</td>\n",
       "      <td>...</td>\n",
       "      <td>...</td>\n",
       "      <td>...</td>\n",
       "      <td>...</td>\n",
       "      <td>...</td>\n",
       "      <td>...</td>\n",
       "      <td>...</td>\n",
       "    </tr>\n",
       "    <tr>\n",
       "      <th>939</th>\n",
       "      <td>NaN</td>\n",
       "      <td>NaN</td>\n",
       "      <td>NaN</td>\n",
       "      <td>NaN</td>\n",
       "      <td>NaN</td>\n",
       "      <td>NaN</td>\n",
       "      <td>NaN</td>\n",
       "      <td>NaN</td>\n",
       "      <td>5.0</td>\n",
       "      <td>NaN</td>\n",
       "      <td>...</td>\n",
       "      <td>NaN</td>\n",
       "      <td>NaN</td>\n",
       "      <td>NaN</td>\n",
       "      <td>NaN</td>\n",
       "      <td>NaN</td>\n",
       "      <td>NaN</td>\n",
       "      <td>NaN</td>\n",
       "      <td>NaN</td>\n",
       "      <td>NaN</td>\n",
       "      <td>NaN</td>\n",
       "    </tr>\n",
       "    <tr>\n",
       "      <th>940</th>\n",
       "      <td>NaN</td>\n",
       "      <td>NaN</td>\n",
       "      <td>NaN</td>\n",
       "      <td>2.0</td>\n",
       "      <td>NaN</td>\n",
       "      <td>NaN</td>\n",
       "      <td>4.0</td>\n",
       "      <td>5.0</td>\n",
       "      <td>3.0</td>\n",
       "      <td>NaN</td>\n",
       "      <td>...</td>\n",
       "      <td>NaN</td>\n",
       "      <td>NaN</td>\n",
       "      <td>NaN</td>\n",
       "      <td>NaN</td>\n",
       "      <td>NaN</td>\n",
       "      <td>NaN</td>\n",
       "      <td>NaN</td>\n",
       "      <td>NaN</td>\n",
       "      <td>NaN</td>\n",
       "      <td>NaN</td>\n",
       "    </tr>\n",
       "    <tr>\n",
       "      <th>941</th>\n",
       "      <td>5.0</td>\n",
       "      <td>NaN</td>\n",
       "      <td>NaN</td>\n",
       "      <td>NaN</td>\n",
       "      <td>NaN</td>\n",
       "      <td>NaN</td>\n",
       "      <td>4.0</td>\n",
       "      <td>NaN</td>\n",
       "      <td>NaN</td>\n",
       "      <td>NaN</td>\n",
       "      <td>...</td>\n",
       "      <td>NaN</td>\n",
       "      <td>NaN</td>\n",
       "      <td>NaN</td>\n",
       "      <td>NaN</td>\n",
       "      <td>NaN</td>\n",
       "      <td>NaN</td>\n",
       "      <td>NaN</td>\n",
       "      <td>NaN</td>\n",
       "      <td>NaN</td>\n",
       "      <td>NaN</td>\n",
       "    </tr>\n",
       "    <tr>\n",
       "      <th>942</th>\n",
       "      <td>NaN</td>\n",
       "      <td>NaN</td>\n",
       "      <td>NaN</td>\n",
       "      <td>NaN</td>\n",
       "      <td>NaN</td>\n",
       "      <td>NaN</td>\n",
       "      <td>NaN</td>\n",
       "      <td>NaN</td>\n",
       "      <td>NaN</td>\n",
       "      <td>NaN</td>\n",
       "      <td>...</td>\n",
       "      <td>NaN</td>\n",
       "      <td>NaN</td>\n",
       "      <td>NaN</td>\n",
       "      <td>NaN</td>\n",
       "      <td>NaN</td>\n",
       "      <td>NaN</td>\n",
       "      <td>NaN</td>\n",
       "      <td>NaN</td>\n",
       "      <td>NaN</td>\n",
       "      <td>NaN</td>\n",
       "    </tr>\n",
       "    <tr>\n",
       "      <th>943</th>\n",
       "      <td>NaN</td>\n",
       "      <td>5.0</td>\n",
       "      <td>NaN</td>\n",
       "      <td>NaN</td>\n",
       "      <td>NaN</td>\n",
       "      <td>NaN</td>\n",
       "      <td>NaN</td>\n",
       "      <td>NaN</td>\n",
       "      <td>3.0</td>\n",
       "      <td>NaN</td>\n",
       "      <td>...</td>\n",
       "      <td>NaN</td>\n",
       "      <td>NaN</td>\n",
       "      <td>NaN</td>\n",
       "      <td>NaN</td>\n",
       "      <td>NaN</td>\n",
       "      <td>NaN</td>\n",
       "      <td>NaN</td>\n",
       "      <td>NaN</td>\n",
       "      <td>NaN</td>\n",
       "      <td>NaN</td>\n",
       "    </tr>\n",
       "  </tbody>\n",
       "</table>\n",
       "<p>943 rows × 1682 columns</p>\n",
       "</div>"
      ],
      "text/plain": [
       "item_id  1     2     3     4     5     6     7     8     9     10    ...  \\\n",
       "user_id                                                              ...   \n",
       "1         5.0   3.0   4.0   3.0   3.0   5.0   4.0   1.0   5.0   3.0  ...   \n",
       "2         4.0   NaN   NaN   NaN   NaN   NaN   NaN   NaN   NaN   2.0  ...   \n",
       "3         NaN   NaN   NaN   NaN   NaN   NaN   NaN   NaN   NaN   NaN  ...   \n",
       "4         NaN   NaN   NaN   NaN   NaN   NaN   NaN   NaN   NaN   NaN  ...   \n",
       "5         4.0   3.0   NaN   NaN   NaN   NaN   NaN   NaN   NaN   NaN  ...   \n",
       "...       ...   ...   ...   ...   ...   ...   ...   ...   ...   ...  ...   \n",
       "939       NaN   NaN   NaN   NaN   NaN   NaN   NaN   NaN   5.0   NaN  ...   \n",
       "940       NaN   NaN   NaN   2.0   NaN   NaN   4.0   5.0   3.0   NaN  ...   \n",
       "941       5.0   NaN   NaN   NaN   NaN   NaN   4.0   NaN   NaN   NaN  ...   \n",
       "942       NaN   NaN   NaN   NaN   NaN   NaN   NaN   NaN   NaN   NaN  ...   \n",
       "943       NaN   5.0   NaN   NaN   NaN   NaN   NaN   NaN   3.0   NaN  ...   \n",
       "\n",
       "item_id  1673  1674  1675  1676  1677  1678  1679  1680  1681  1682  \n",
       "user_id                                                              \n",
       "1         NaN   NaN   NaN   NaN   NaN   NaN   NaN   NaN   NaN   NaN  \n",
       "2         NaN   NaN   NaN   NaN   NaN   NaN   NaN   NaN   NaN   NaN  \n",
       "3         NaN   NaN   NaN   NaN   NaN   NaN   NaN   NaN   NaN   NaN  \n",
       "4         NaN   NaN   NaN   NaN   NaN   NaN   NaN   NaN   NaN   NaN  \n",
       "5         NaN   NaN   NaN   NaN   NaN   NaN   NaN   NaN   NaN   NaN  \n",
       "...       ...   ...   ...   ...   ...   ...   ...   ...   ...   ...  \n",
       "939       NaN   NaN   NaN   NaN   NaN   NaN   NaN   NaN   NaN   NaN  \n",
       "940       NaN   NaN   NaN   NaN   NaN   NaN   NaN   NaN   NaN   NaN  \n",
       "941       NaN   NaN   NaN   NaN   NaN   NaN   NaN   NaN   NaN   NaN  \n",
       "942       NaN   NaN   NaN   NaN   NaN   NaN   NaN   NaN   NaN   NaN  \n",
       "943       NaN   NaN   NaN   NaN   NaN   NaN   NaN   NaN   NaN   NaN  \n",
       "\n",
       "[943 rows x 1682 columns]"
      ]
     },
     "execution_count": 96,
     "metadata": {},
     "output_type": "execute_result"
    }
   ],
   "source": [
    "user_item_matrix"
   ]
  },
  {
   "cell_type": "markdown",
   "id": "4cb27875",
   "metadata": {},
   "source": [
    "### Calculate the item similarity matrix:"
   ]
  },
  {
   "cell_type": "markdown",
   "id": "b1b87325",
   "metadata": {},
   "source": [
    "An item similarity matrix is a matrix that shows the similarity between items based on some criteria. In the context of recommendation systems, it can be used to find similar items to recommend to a user.\n",
    "\n",
    "\n",
    "\n",
    "Cosine similarity is a popular similarity metric used in recommendation systems to calculate the similarity between two items. It measures the cosine of the angle between two vectors and ranges from -1 to 1, with 1 indicating perfect similarity and -1 indicating perfect dissimilarity.\n",
    "\n",
    "\n",
    "The resulting item similarity matrix will have a value for each pair of items indicating how similar they are. For example, if item A and item B have a similarity score of 0.8, it means they are highly similar based on the chosen features. We can then use this matrix to recommend similar items to a user based on their preferences."
   ]
  },
  {
   "cell_type": "code",
   "execution_count": 98,
   "id": "266009b8",
   "metadata": {},
   "outputs": [],
   "source": [
    "from sklearn.metrics.pairwise import cosine_similarity\n",
    "\n",
    "# Fill missing ratings with zeros and compute the cosine similarity\n",
    "user_item_matrix_filled = user_item_matrix.fillna(0)\n",
    "\n",
    "item_similarity_matrix = cosine_similarity(user_item_matrix_filled.T)"
   ]
  },
  {
   "cell_type": "code",
   "execution_count": 99,
   "id": "eff6e8f2-f753-4b59-ae00-e5dccba8b976",
   "metadata": {},
   "outputs": [
    {
     "data": {
      "text/plain": [
       "array([[1.        , 0.40238218, 0.33024479, ..., 0.        , 0.04718307,\n",
       "        0.04718307],\n",
       "       [0.40238218, 1.        , 0.27306918, ..., 0.        , 0.07829936,\n",
       "        0.07829936],\n",
       "       [0.33024479, 0.27306918, 1.        , ..., 0.        , 0.        ,\n",
       "        0.09687505],\n",
       "       ...,\n",
       "       [0.        , 0.        , 0.        , ..., 1.        , 0.        ,\n",
       "        0.        ],\n",
       "       [0.04718307, 0.07829936, 0.        , ..., 0.        , 1.        ,\n",
       "        0.        ],\n",
       "       [0.04718307, 0.07829936, 0.09687505, ..., 0.        , 0.        ,\n",
       "        1.        ]])"
      ]
     },
     "execution_count": 99,
     "metadata": {},
     "output_type": "execute_result"
    }
   ],
   "source": [
    "item_similarity_matrix"
   ]
  },
  {
   "cell_type": "markdown",
   "id": "ca2d3897",
   "metadata": {},
   "source": [
    "### Make movie recommendations for a specific user:"
   ]
  },
  {
   "cell_type": "markdown",
   "id": "6abc5147",
   "metadata": {},
   "source": [
    "* This code below  is about recommending movies to people based on what they have already watched and liked.\n",
    "\n",
    "\n",
    "* The function is called recommend_movies and it takes in two things: the name of a person who wants a recommendation, and how many movies they want to be recommended.\n",
    "\n",
    "    \n",
    "* The code looks at all the movies that person has already watched and liked, and it uses that information to guess what other movies that person might like.\n",
    "\n",
    "\n",
    "* It does this by looking at how similar different movies are to each other, and then it uses some math to predict how much that person might like a particular movie.\n",
    "\n",
    "\n",
    "* The function then returns a list of recommended movies for that person. The number of movies in the list is determined by the second parameter that was passed to the function.\n",
    "\n",
    "\n",
    "So, in short, this code helps people find new movies to watch based on what they have already enjoyed watching!"
   ]
  },
  {
   "cell_type": "code",
   "execution_count": 100,
   "id": "e99a2ab7",
   "metadata": {},
   "outputs": [
    {
     "name": "stdout",
     "output_type": "stream",
     "text": [
      "Recommended movies for user 1: [1681, 577, 553, 554, 555, 556, 557, 558, 559, 560]\n"
     ]
    }
   ],
   "source": [
    "import numpy as np\n",
    "\n",
    "def recommend_movies(user_id, n_recommendations=10):\n",
    "    # Get the user's movie ratings and exclude movies they have already rated\n",
    "    user_ratings = user_item_matrix.loc[user_id]\n",
    "    rated_movie_ids = user_ratings[user_ratings.notnull()].index\n",
    "\n",
    "    # Compute the predicted ratings for all movies by multiplying the item similarity matrix by the user's ratings\n",
    "    predicted_ratings = np.dot(item_similarity_matrix, user_ratings)\n",
    "\n",
    "    # Rank the movies by their predicted ratings and exclude movies the user has already rated\n",
    "    movie_rankings = np.argsort(predicted_ratings)[::-1]\n",
    "    recommended_movie_ids = [movie_id for movie_id in movie_rankings if movie_id not in rated_movie_ids]\n",
    "\n",
    "    return recommended_movie_ids[:n_recommendations]\n",
    "\n",
    "# Recommend 10 movies for a specific user (e.g., user_id=1)\n",
    "recommended_movies = recommend_movies(user_id=1)\n",
    "print(\"Recommended movies for user 1:\", recommended_movies)\n"
   ]
  },
  {
   "cell_type": "markdown",
   "id": "eaa924af",
   "metadata": {},
   "source": [
    "In this example, \n",
    "* we used the MovieLens 100k dataset to demonstrate an item-based collaborative filtering recommender system.\n",
    "* The dataset contains user ratings for different movies. After loading and preprocessing the data, \n",
    "* we calculated the item similarity matrix using cosine similarity. \n",
    "* We then made movie recommendations for a specific user by computing the predicted ratings for all movies and ranking them accordingly. This simple recommender system can be further improved by incorporating additional data, such as movie genres, user demographics, or using more advanced techniques like matrix factorization."
   ]
  },
  {
   "cell_type": "markdown",
   "id": "26b690a7",
   "metadata": {},
   "source": [
    "* Let's say you have a list of movies and a list of your ratings for those movies. The item_similarity_matrix is a table that shows how similar each pair of movies are. For example, if the movie \"The Shawshank Redemption\" is similar to the movie \"The Green Mile\", then the item_similarity_matrix will have a high value in the cell where those two movies are listed.\n",
    "\n",
    "\n",
    "\n",
    "* The user_ratings is a list of your ratings for the movies. The predicted_ratings is a list of the predicted ratings for all movies. The predicted ratings are calculated by multiplying the item_similarity_matrix by the user_ratings.\n",
    "\n",
    "\n",
    "\n",
    "* For example, let's say you have rated the movies \"The Shawshank Redemption\" and \"The Green Mile\" with 5 stars each. The item_similarity_matrix might show that \"The Shawshank Redemption\" is similar to \"The Green Mile\" and \"The Godfather\". The predicted_ratings would then be 5 stars for \"The Green Mile\" and \"The Godfather\".\n",
    "\n",
    "\n",
    "\n",
    "* The predicted_ratings list can be used to recommend movies to you. For example, if you have not rated the movie \"The Godfather\", the predicted_ratings list would tell you that you might like it, because it is similar to movies that you have rated highly.\n",
    "\n"
   ]
  },
  {
   "cell_type": "markdown",
   "id": "b7509cf8",
   "metadata": {},
   "source": [
    "## 3 Outlier detection"
   ]
  },
  {
   "cell_type": "markdown",
   "id": "9e1208f4",
   "metadata": {},
   "source": [
    "Outlier detection, or anomaly detection, plays a crucial role in various industries for identifying unusual data points or events that deviate significantly from the norm.\n",
    "\n",
    "\n",
    "\n",
    "* In this example, we'll demonstrate an outlier detection use case in credit card fraud detection using the Isolation Forest algorithm.\n",
    "\n",
    "\n",
    "\n",
    "* We'll use the \"Credit Card Fraud Detection\" dataset from Kaggle, which can be downloaded from this link: \n",
    "\n",
    "https://www.kaggle.com/mlg-ulb/creditcardfraud"
   ]
  },
  {
   "cell_type": "markdown",
   "id": "3e387c88",
   "metadata": {},
   "source": [
    "### Load the dataset and preprocess it:"
   ]
  },
  {
   "cell_type": "code",
   "execution_count": 101,
   "id": "83eadde4",
   "metadata": {},
   "outputs": [],
   "source": [
    "import pandas as pd\n",
    "from sklearn.model_selection import train_test_split\n",
    "\n",
    "# Load the dataset\n",
    "\n",
    "# please get the data from kaggle \n",
    "data = pd.read_csv(\"creditcard.csv\")\n",
    "\n",
    "# Separate features and labels\n",
    "X = data.drop(\"Class\", axis=1)\n",
    "y = data[\"Class\"]\n",
    "\n",
    "# Split the data into a training set (80%) and a test set (20%)\n",
    "X_train, X_test, y_train, y_test = train_test_split(X, y, test_size=0.2, random_state=42)\n"
   ]
  },
  {
   "cell_type": "code",
   "execution_count": null,
   "id": "1f237d91-7d90-4dfb-a6ff-7833d6e04041",
   "metadata": {},
   "outputs": [],
   "source": [
    "data"
   ]
  },
  {
   "cell_type": "markdown",
   "id": "2d1b86d8",
   "metadata": {},
   "source": [
    "### Apply the Isolation Forest algorithm for outlier detection:"
   ]
  },
  {
   "cell_type": "code",
   "execution_count": 102,
   "id": "8654a167",
   "metadata": {},
   "outputs": [],
   "source": [
    "from sklearn.ensemble import IsolationForest\n",
    "\n",
    "# Initialize the Isolation Forest model\n",
    "iso_forest = IsolationForest(contamination=0.1, random_state=42)\n",
    "\n",
    "# Fit the model to the training data\n",
    "iso_forest.fit(X_train)\n",
    "\n",
    "# Make predictions on the test data\n",
    "y_pred = iso_forest.predict(X_test)\n"
   ]
  },
  {
   "cell_type": "code",
   "execution_count": 103,
   "id": "545329a3-1675-49c0-bef3-6cfec15fc5e3",
   "metadata": {},
   "outputs": [
    {
     "data": {
      "text/plain": [
       "array([-1,  1,  1, ...,  1,  1, -1])"
      ]
     },
     "execution_count": 103,
     "metadata": {},
     "output_type": "execute_result"
    }
   ],
   "source": [
    "y_pred"
   ]
  },
  {
   "cell_type": "code",
   "execution_count": null,
   "id": "d0a8d28f",
   "metadata": {},
   "outputs": [],
   "source": [
    "y = pd.DataFrame({\"value\": y_pred})"
   ]
  },
  {
   "cell_type": "code",
   "execution_count": null,
   "id": "0163eccd",
   "metadata": {},
   "outputs": [],
   "source": [
    "y.columns"
   ]
  },
  {
   "cell_type": "code",
   "execution_count": null,
   "id": "ee264ca6",
   "metadata": {},
   "outputs": [],
   "source": [
    "y['value'].value_counts()"
   ]
  },
  {
   "cell_type": "code",
   "execution_count": null,
   "id": "7bd0e02c",
   "metadata": {},
   "outputs": [],
   "source": []
  },
  {
   "cell_type": "markdown",
   "id": "cb33ec37",
   "metadata": {},
   "source": [
    "### Evaluate the performance of the outlier detection model:"
   ]
  },
  {
   "cell_type": "code",
   "execution_count": null,
   "id": "70e35ada",
   "metadata": {},
   "outputs": [],
   "source": [
    "from sklearn.metrics import classification_report, confusion_matrix\n",
    "\n",
    "# Convert the predictions from {-1, 1} to {0, 1}\n",
    "y_pred = [1 if pred == -1 else 0 for pred in y_pred]\n",
    "\n",
    "# Calculate the confusion matrix and classification report\n",
    "cm = confusion_matrix(y_test, y_pred)\n",
    "cr = classification_report(y_test, y_pred)\n",
    "\n",
    "print(\"Confusion Matrix:\\n\", cm)\n",
    "print(\"Classification Report:\\n\", cr)\n"
   ]
  },
  {
   "cell_type": "markdown",
   "id": "406d761f",
   "metadata": {},
   "source": [
    "* A good precision is one that is close to 1.\n",
    "* A good recall is one that is close to 1. \n",
    "* A good F1 score is one that is close to 1.\n",
    "* A good support value is one that is large.\n",
    "* A good accuracy is one that is close to 1. \n",
    "* A good macro average is one that is close to 1. \n",
    "* A good weighted average is one that is close to 1."
   ]
  },
  {
   "cell_type": "markdown",
   "id": "94e596fa",
   "metadata": {},
   "source": [
    "The table shows the following metrics for two classes:\n",
    "\n",
    "**Class 0**: This is the majority class, with 56,864 instances.\n",
    "\n",
    "**Class 1**: This is the minority class, with 98 instances.\n",
    "\n",
    "**Precision**: This is the fraction of predicted positive instances that are actually positive. \n",
    "- For class 0, the precision is 1.00, which means that all of the predicted positive instances are actually positive.\n",
    "- For class 1, the precision is 0.02, which means that only 2 of the predicted positive instances are actually positive.\n",
    "\n",
    "**Recall**: This is the fraction of actual positive instances that are predicted positive. \n",
    "- For class 0, the recall is 0.90, which means that 90% of the actual positive instances are predicted positive.\n",
    "- For class 1, the recall is 0.90, which means that 90% of the actual positive instances are predicted positive.\n",
    "\n",
    "**F1 score**: This is a measure of a model's performance that combines precision and recall. It is calculated as the harmonic mean of precision and recall.\n",
    "- For class 0, the F1 score is 0.95, which is a good score.\n",
    "- For class 1, the F1 score is 0.03, which is a poor score.\n",
    "\n",
    "**Support**: This is the number of actual positive instances in the dataset.\n",
    "- For class 0, the support is 56,864.\n",
    "- For class 1, the support is 98.\n",
    "\n",
    "**Accuracy**: This is the fraction of instances in the dataset that are correctly classified.\n",
    "- For class 0, the accuracy is 1.00, which is a good score.\n",
    "- For class 1, the accuracy is 0.02, which is a poor score.\n",
    "\n",
    "**Macro average**: This is the unweighted average of precision, recall, and F1 score.\n",
    "- For class 0, the macro average is 0.51, which is a poor score.\n",
    "- For class 1, the macro average is 0.49, which is a poor score.\n",
    "\n",
    "**Weighted average**: This is the weighted average of precision, recall, and F1 score, where the weights are the support values for each class.\n",
    "- For class 0, the weighted average is 1.00, which is a good score.\n",
    "- For class 1, the weighted average is 0.95, which is a good score.\n",
    "\n",
    "Overall, the model has a good performance for class 0, but a poor performance for class 1. This is likely because the minority class (class 1) is very small.\n",
    "\n",
    "The weighted average is higher than the macro average because the majority class (class 0) has a much larger support value than the minority class (class 1). This means that the weighted average is more heavily influenced by the performance of the majority class.\n"
   ]
  },
  {
   "cell_type": "markdown",
   "id": "a6daf4d5",
   "metadata": {},
   "source": [
    "In this example, we used the \"Credit Card Fraud Detection\" dataset to demonstrate outlier detection in credit card fraud detection using the Isolation Forest algorithm.\n",
    "\n",
    "\n",
    "The dataset contains credit card transactions, where a small portion of them are labeled as fraudulent. \n",
    "\n",
    "\n",
    "After loading and preprocessing the data, we applied the Isolation Forest algorithm to detect outliers in the transactions. \n",
    "\n",
    "\n",
    "Finally, we evaluated the performance of the outlier detection model using the confusion matrix and classification report. This approach can help financial institutions identify potentially fraudulent transactions and take appropriate actions to prevent losses."
   ]
  },
  {
   "cell_type": "markdown",
   "id": "36559a16",
   "metadata": {},
   "source": [
    "# Assignment"
   ]
  },
  {
   "cell_type": "markdown",
   "id": "36a8ae37",
   "metadata": {},
   "source": [
    "## 8 Assignment: Unsupervised Learning for Credit Card Customer Segmentation\n",
    "\n",
    "### Objective:\n",
    "Apply unsupervised learning techniques to perform customer segmentation on a credit card dataset, and analyze the results to gain insights into the customer base. Use the K-means clustering algorithm for customer segmentation and visualize the results.\n",
    "\n",
    "### Dataset:\n",
    "\n",
    "Use the \"Credit Card Dataset for Clustering\" available on Kaggle. You can download the dataset from this link: https://www.kaggle.com/arjunbhasin2013/ccdata"
   ]
  },
  {
   "cell_type": "markdown",
   "id": "4610c002",
   "metadata": {},
   "source": [
    "###  Steps:\n",
    "\n",
    "1) Load and preprocess the dataset:\n",
    "\n",
    "* Import necessary libraries\n",
    "* Load the dataset\n",
    "* Drop unnecessary columns or handle missing data, if any Perform feature scaling and normalization\n",
    "\n"
   ]
  },
  {
   "cell_type": "markdown",
   "id": "8b9514ff",
   "metadata": {},
   "source": [
    "2) Apply the K-means clustering algorithm for customer segmentation:\n",
    "\n",
    "* Determine the optimal number of clusters using the elbow method or silhouette score\n",
    "* Initialize the KMeans model with the desired number of clusters\n",
    "* Fit the model to the data and make predictions\n",
    "* Visualize and analyze the results:\n",
    "\n",
    "3) Visualize the clusters using one or more pairs of features\n",
    "* Analyze the characteristics of each cluster to gain insights into the customer base\n",
    "* Discuss the implications of the findings for the business, such as targeted marketing strategies"
   ]
  },
  {
   "cell_type": "markdown",
   "id": "3d86813a",
   "metadata": {},
   "source": [
    "# Solution for the assignment on Unsupervised Learning for Credit Card Customer"
   ]
  },
  {
   "cell_type": "code",
   "execution_count": null,
   "id": "11dc3341",
   "metadata": {},
   "outputs": [],
   "source": [
    "import pandas as pd\n",
    "from sklearn.preprocessing import StandardScaler\n",
    "\n",
    "# Load the dataset\n",
    "data = pd.read_csv(\"data/CC GENERAL.csv\")\n",
    "\n",
    "# Drop the CUST_ID column and handle missing data\n",
    "data = data.drop(\"CUST_ID\", axis=1)\n",
    "data = data.fillna(data.median())\n",
    "\n",
    "# Feature scaling and normalization\n",
    "scaler = StandardScaler()\n",
    "data_scaled = scaler.fit_transform(data)"
   ]
  },
  {
   "cell_type": "code",
   "execution_count": null,
   "id": "db32b17a",
   "metadata": {},
   "outputs": [],
   "source": [
    "data.head()"
   ]
  },
  {
   "cell_type": "code",
   "execution_count": null,
   "id": "9636734c",
   "metadata": {},
   "outputs": [],
   "source": [
    "import matplotlib.pyplot as plt\n",
    "from sklearn.cluster import KMeans\n",
    "\n",
    "# Determine the optimal number of clusters using the elbow method\n",
    "wcss = []\n",
    "for i in range(1, 11):\n",
    "    kmeans = KMeans(n_clusters=i, init=\"k-means++\", random_state=42)\n",
    "    kmeans.fit(data_scaled)\n",
    "    wcss.append(kmeans.inertia_)\n",
    "\n",
    "plt.plot(range(1, 11), wcss)\n",
    "plt.title(\"Elbow Method\")\n",
    "plt.xlabel(\"Number of Clusters\")\n",
    "plt.ylabel(\"WCSS\")\n",
    "plt.show()\n",
    "\n",
    "# Apply K-means clustering with the optimal number of clusters (k=4)\n",
    "k = 4\n",
    "kmeans = KMeans(n_clusters=k, init=\"k-means++\", random_state=42)\n",
    "clusters = kmeans.fit_predict(data_scaled)\n"
   ]
  },
  {
   "cell_type": "code",
   "execution_count": null,
   "id": "8b79f067",
   "metadata": {},
   "outputs": [],
   "source": [
    "import seaborn as sns\n",
    "\n",
    "# Add the cluster labels to the original dataset\n",
    "data[\"Cluster\"] = clusters\n",
    "\n",
    "# Visualize the clusters using a pairplot with two selected features (e.g., BALANCE and PURCHASES)\n",
    "sns.pairplot(data, vars=[\"BALANCE\", \"PURCHASES\"], hue=\"Cluster\")\n",
    "plt.show()\n",
    "\n",
    "# Analyze the characteristics of each cluster\n",
    "cluster_summary = data.groupby(\"Cluster\").mean()\n",
    "print(cluster_summary)\n"
   ]
  },
  {
   "cell_type": "markdown",
   "id": "37c4652a",
   "metadata": {},
   "source": [
    "In this assignment, we used the K-means clustering algorithm to perform customer segmentation on a credit card dataset. We determined the optimal number of clusters using the elbow method and visualized the clusters using a pairplot with two selected features. By analyzing the characteristics of each cluster, we can gain insights into the customer base and design targeted marketing strategies accordingly."
   ]
  },
  {
   "cell_type": "code",
   "execution_count": null,
   "id": "8b802245",
   "metadata": {},
   "outputs": [],
   "source": []
  }
 ],
 "metadata": {
  "kernelspec": {
   "display_name": "Python 3 (ipykernel)",
   "language": "python",
   "name": "python3"
  },
  "language_info": {
   "codemirror_mode": {
    "name": "ipython",
    "version": 3
   },
   "file_extension": ".py",
   "mimetype": "text/x-python",
   "name": "python",
   "nbconvert_exporter": "python",
   "pygments_lexer": "ipython3",
   "version": "3.12.1"
  }
 },
 "nbformat": 4,
 "nbformat_minor": 5
}
